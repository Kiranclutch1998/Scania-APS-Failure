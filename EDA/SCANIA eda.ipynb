{
 "cells": [
  {
   "cell_type": "code",
   "execution_count": 1,
   "metadata": {},
   "outputs": [],
   "source": [
    "import pandas as pd\n",
    "import numpy as np\n",
    "\n",
    "import warnings\n",
    "warnings.filterwarnings(\"ignore\")"
   ]
  },
  {
   "cell_type": "code",
   "execution_count": 2,
   "metadata": {
    "scrolled": true
   },
   "outputs": [
    {
     "name": "stdout",
     "output_type": "stream",
     "text": [
      "(60000, 171)\n"
     ]
    },
    {
     "data": {
      "text/html": [
       "<div>\n",
       "<style scoped>\n",
       "    .dataframe tbody tr th:only-of-type {\n",
       "        vertical-align: middle;\n",
       "    }\n",
       "\n",
       "    .dataframe tbody tr th {\n",
       "        vertical-align: top;\n",
       "    }\n",
       "\n",
       "    .dataframe thead th {\n",
       "        text-align: right;\n",
       "    }\n",
       "</style>\n",
       "<table border=\"1\" class=\"dataframe\">\n",
       "  <thead>\n",
       "    <tr style=\"text-align: right;\">\n",
       "      <th></th>\n",
       "      <th>class</th>\n",
       "      <th>aa_000</th>\n",
       "      <th>ab_000</th>\n",
       "      <th>ac_000</th>\n",
       "      <th>ad_000</th>\n",
       "      <th>ae_000</th>\n",
       "      <th>af_000</th>\n",
       "      <th>ag_000</th>\n",
       "      <th>ag_001</th>\n",
       "      <th>ag_002</th>\n",
       "      <th>...</th>\n",
       "      <th>ee_002</th>\n",
       "      <th>ee_003</th>\n",
       "      <th>ee_004</th>\n",
       "      <th>ee_005</th>\n",
       "      <th>ee_006</th>\n",
       "      <th>ee_007</th>\n",
       "      <th>ee_008</th>\n",
       "      <th>ee_009</th>\n",
       "      <th>ef_000</th>\n",
       "      <th>eg_000</th>\n",
       "    </tr>\n",
       "  </thead>\n",
       "  <tbody>\n",
       "    <tr>\n",
       "      <th>0</th>\n",
       "      <td>neg</td>\n",
       "      <td>76698</td>\n",
       "      <td>na</td>\n",
       "      <td>2130706438</td>\n",
       "      <td>280</td>\n",
       "      <td>0</td>\n",
       "      <td>0</td>\n",
       "      <td>0</td>\n",
       "      <td>0</td>\n",
       "      <td>0</td>\n",
       "      <td>...</td>\n",
       "      <td>1240520</td>\n",
       "      <td>493384</td>\n",
       "      <td>721044</td>\n",
       "      <td>469792</td>\n",
       "      <td>339156</td>\n",
       "      <td>157956</td>\n",
       "      <td>73224</td>\n",
       "      <td>0</td>\n",
       "      <td>0</td>\n",
       "      <td>0</td>\n",
       "    </tr>\n",
       "    <tr>\n",
       "      <th>1</th>\n",
       "      <td>neg</td>\n",
       "      <td>33058</td>\n",
       "      <td>na</td>\n",
       "      <td>0</td>\n",
       "      <td>na</td>\n",
       "      <td>0</td>\n",
       "      <td>0</td>\n",
       "      <td>0</td>\n",
       "      <td>0</td>\n",
       "      <td>0</td>\n",
       "      <td>...</td>\n",
       "      <td>421400</td>\n",
       "      <td>178064</td>\n",
       "      <td>293306</td>\n",
       "      <td>245416</td>\n",
       "      <td>133654</td>\n",
       "      <td>81140</td>\n",
       "      <td>97576</td>\n",
       "      <td>1500</td>\n",
       "      <td>0</td>\n",
       "      <td>0</td>\n",
       "    </tr>\n",
       "    <tr>\n",
       "      <th>2</th>\n",
       "      <td>neg</td>\n",
       "      <td>41040</td>\n",
       "      <td>na</td>\n",
       "      <td>228</td>\n",
       "      <td>100</td>\n",
       "      <td>0</td>\n",
       "      <td>0</td>\n",
       "      <td>0</td>\n",
       "      <td>0</td>\n",
       "      <td>0</td>\n",
       "      <td>...</td>\n",
       "      <td>277378</td>\n",
       "      <td>159812</td>\n",
       "      <td>423992</td>\n",
       "      <td>409564</td>\n",
       "      <td>320746</td>\n",
       "      <td>158022</td>\n",
       "      <td>95128</td>\n",
       "      <td>514</td>\n",
       "      <td>0</td>\n",
       "      <td>0</td>\n",
       "    </tr>\n",
       "    <tr>\n",
       "      <th>3</th>\n",
       "      <td>neg</td>\n",
       "      <td>12</td>\n",
       "      <td>0</td>\n",
       "      <td>70</td>\n",
       "      <td>66</td>\n",
       "      <td>0</td>\n",
       "      <td>10</td>\n",
       "      <td>0</td>\n",
       "      <td>0</td>\n",
       "      <td>0</td>\n",
       "      <td>...</td>\n",
       "      <td>240</td>\n",
       "      <td>46</td>\n",
       "      <td>58</td>\n",
       "      <td>44</td>\n",
       "      <td>10</td>\n",
       "      <td>0</td>\n",
       "      <td>0</td>\n",
       "      <td>0</td>\n",
       "      <td>4</td>\n",
       "      <td>32</td>\n",
       "    </tr>\n",
       "    <tr>\n",
       "      <th>4</th>\n",
       "      <td>neg</td>\n",
       "      <td>60874</td>\n",
       "      <td>na</td>\n",
       "      <td>1368</td>\n",
       "      <td>458</td>\n",
       "      <td>0</td>\n",
       "      <td>0</td>\n",
       "      <td>0</td>\n",
       "      <td>0</td>\n",
       "      <td>0</td>\n",
       "      <td>...</td>\n",
       "      <td>622012</td>\n",
       "      <td>229790</td>\n",
       "      <td>405298</td>\n",
       "      <td>347188</td>\n",
       "      <td>286954</td>\n",
       "      <td>311560</td>\n",
       "      <td>433954</td>\n",
       "      <td>1218</td>\n",
       "      <td>0</td>\n",
       "      <td>0</td>\n",
       "    </tr>\n",
       "  </tbody>\n",
       "</table>\n",
       "<p>5 rows × 171 columns</p>\n",
       "</div>"
      ],
      "text/plain": [
       "  class  aa_000 ab_000      ac_000 ad_000 ae_000 af_000 ag_000 ag_001 ag_002  \\\n",
       "0   neg   76698     na  2130706438    280      0      0      0      0      0   \n",
       "1   neg   33058     na           0     na      0      0      0      0      0   \n",
       "2   neg   41040     na         228    100      0      0      0      0      0   \n",
       "3   neg      12      0          70     66      0     10      0      0      0   \n",
       "4   neg   60874     na        1368    458      0      0      0      0      0   \n",
       "\n",
       "   ...   ee_002  ee_003  ee_004  ee_005  ee_006  ee_007  ee_008 ee_009 ef_000  \\\n",
       "0  ...  1240520  493384  721044  469792  339156  157956   73224      0      0   \n",
       "1  ...   421400  178064  293306  245416  133654   81140   97576   1500      0   \n",
       "2  ...   277378  159812  423992  409564  320746  158022   95128    514      0   \n",
       "3  ...      240      46      58      44      10       0       0      0      4   \n",
       "4  ...   622012  229790  405298  347188  286954  311560  433954   1218      0   \n",
       "\n",
       "  eg_000  \n",
       "0      0  \n",
       "1      0  \n",
       "2      0  \n",
       "3     32  \n",
       "4      0  \n",
       "\n",
       "[5 rows x 171 columns]"
      ]
     },
     "execution_count": 2,
     "metadata": {},
     "output_type": "execute_result"
    }
   ],
   "source": [
    "df = pd.read_csv('aps_failure_training_set.csv')\n",
    "print(df.shape)\n",
    "df.head()"
   ]
  },
  {
   "cell_type": "code",
   "execution_count": 3,
   "metadata": {},
   "outputs": [
    {
     "name": "stdout",
     "output_type": "stream",
     "text": [
      "Total number of Train datapoints:  60000\n",
      "Total number of features:  171\n",
      "The column/feature names given are:\n",
      "  ['class', 'aa_000', 'ab_000', 'ac_000', 'ad_000', 'ae_000', 'af_000', 'ag_000', 'ag_001', 'ag_002', 'ag_003', 'ag_004', 'ag_005', 'ag_006', 'ag_007', 'ag_008', 'ag_009', 'ah_000', 'ai_000', 'aj_000', 'ak_000', 'al_000', 'am_0', 'an_000', 'ao_000', 'ap_000', 'aq_000', 'ar_000', 'as_000', 'at_000', 'au_000', 'av_000', 'ax_000', 'ay_000', 'ay_001', 'ay_002', 'ay_003', 'ay_004', 'ay_005', 'ay_006', 'ay_007', 'ay_008', 'ay_009', 'az_000', 'az_001', 'az_002', 'az_003', 'az_004', 'az_005', 'az_006', 'az_007', 'az_008', 'az_009', 'ba_000', 'ba_001', 'ba_002', 'ba_003', 'ba_004', 'ba_005', 'ba_006', 'ba_007', 'ba_008', 'ba_009', 'bb_000', 'bc_000', 'bd_000', 'be_000', 'bf_000', 'bg_000', 'bh_000', 'bi_000', 'bj_000', 'bk_000', 'bl_000', 'bm_000', 'bn_000', 'bo_000', 'bp_000', 'bq_000', 'br_000', 'bs_000', 'bt_000', 'bu_000', 'bv_000', 'bx_000', 'by_000', 'bz_000', 'ca_000', 'cb_000', 'cc_000', 'cd_000', 'ce_000', 'cf_000', 'cg_000', 'ch_000', 'ci_000', 'cj_000', 'ck_000', 'cl_000', 'cm_000', 'cn_000', 'cn_001', 'cn_002', 'cn_003', 'cn_004', 'cn_005', 'cn_006', 'cn_007', 'cn_008', 'cn_009', 'co_000', 'cp_000', 'cq_000', 'cr_000', 'cs_000', 'cs_001', 'cs_002', 'cs_003', 'cs_004', 'cs_005', 'cs_006', 'cs_007', 'cs_008', 'cs_009', 'ct_000', 'cu_000', 'cv_000', 'cx_000', 'cy_000', 'cz_000', 'da_000', 'db_000', 'dc_000', 'dd_000', 'de_000', 'df_000', 'dg_000', 'dh_000', 'di_000', 'dj_000', 'dk_000', 'dl_000', 'dm_000', 'dn_000', 'do_000', 'dp_000', 'dq_000', 'dr_000', 'ds_000', 'dt_000', 'du_000', 'dv_000', 'dx_000', 'dy_000', 'dz_000', 'ea_000', 'eb_000', 'ec_00', 'ed_000', 'ee_000', 'ee_001', 'ee_002', 'ee_003', 'ee_004', 'ee_005', 'ee_006', 'ee_007', 'ee_008', 'ee_009', 'ef_000', 'eg_000']\n"
     ]
    }
   ],
   "source": [
    "print(\"Total number of Train datapoints: \",df.shape[0])\n",
    "print(\"Total number of features: \",df.shape[1])\n",
    "print(\"The column/feature names given are:\\n \",list(df.columns))"
   ]
  },
  {
   "cell_type": "markdown",
   "metadata": {},
   "source": [
    "# Basic Pre-Processing and Analysis\n",
    "\n",
    "Class label Preprocessing"
   ]
  },
  {
   "cell_type": "code",
   "execution_count": 7,
   "metadata": {},
   "outputs": [],
   "source": [
    "def get_correct_label(y):\n",
    "    return y.replace(['neg','pos'],[0,1])\n"
   ]
  },
  {
   "cell_type": "code",
   "execution_count": 5,
   "metadata": {},
   "outputs": [
    {
     "name": "stdout",
     "output_type": "stream",
     "text": [
      "['neg' 'pos']\n",
      "[0 1]\n"
     ]
    }
   ],
   "source": [
    "print(df['class'].unique())\n",
    "df['class'] = get_correct_label(df['class'])\n",
    "print(df['class'].unique())"
   ]
  },
  {
   "cell_type": "markdown",
   "metadata": {},
   "source": [
    "# Class Distribution\n",
    "\n",
    "Here, we will look into the distribution of our dataset. In ideal cases, we prefer a balanced dataset (equal number of positive and negative datapoints)\n"
   ]
  },
  {
   "cell_type": "code",
   "execution_count": 6,
   "metadata": {},
   "outputs": [],
   "source": [
    "import matplotlib.pyplot as plt\n",
    "import seaborn as sns"
   ]
  },
  {
   "cell_type": "code",
   "execution_count": 7,
   "metadata": {},
   "outputs": [
    {
     "data": {
      "text/plain": [
       "Text(0, 0.5, 'Count')"
      ]
     },
     "execution_count": 7,
     "metadata": {},
     "output_type": "execute_result"
    },
    {
     "data": {
      "image/png": "[encoded data removed]",
      "text/plain": [
       "<Figure size 432x288 with 1 Axes>"
      ]
     },
     "metadata": {
      "needs_background": "light"
     },
     "output_type": "display_data"
    }
   ],
   "source": [
    "# Plotting the distribution of class label\n",
    "sns.barplot(df['class'].unique(),df['class'].value_counts())\n",
    "plt.title('Class Label Distribution')\n",
    "plt.xlabel('Class Label')\n",
    "plt.ylabel('Count')"
   ]
  },
  {
   "cell_type": "code",
   "execution_count": 8,
   "metadata": {},
   "outputs": [
    {
     "name": "stdout",
     "output_type": "stream",
     "text": [
      "The number of positive class points is:  1000\n",
      "The number of negative class points is:  59000\n"
     ]
    }
   ],
   "source": [
    "print('The number of positive class points is: ',df['class'].value_counts()[1])\n",
    "print('The number of negative class points is: ',df['class'].value_counts()[0])"
   ]
  },
  {
   "cell_type": "code",
   "execution_count": 9,
   "metadata": {},
   "outputs": [],
   "source": [
    "df.replace('na',np.NaN, inplace=True)"
   ]
  },
  {
   "cell_type": "code",
   "execution_count": 10,
   "metadata": {},
   "outputs": [],
   "source": [
    "missing_values=df.isna().sum()\n",
    "dataframe_with_null = pd.DataFrame()\n",
    "dataframe_with_null['columns'] = df.columns\n",
    "dataframe_with_null['missing values count'] = np.asarray(missing_values)"
   ]
  },
  {
   "cell_type": "code",
   "execution_count": 11,
   "metadata": {},
   "outputs": [
    {
     "data": {
      "text/html": [
       "<div>\n",
       "<style scoped>\n",
       "    .dataframe tbody tr th:only-of-type {\n",
       "        vertical-align: middle;\n",
       "    }\n",
       "\n",
       "    .dataframe tbody tr th {\n",
       "        vertical-align: top;\n",
       "    }\n",
       "\n",
       "    .dataframe thead th {\n",
       "        text-align: right;\n",
       "    }\n",
       "</style>\n",
       "<table border=\"1\" class=\"dataframe\">\n",
       "  <thead>\n",
       "    <tr style=\"text-align: right;\">\n",
       "      <th></th>\n",
       "      <th>columns</th>\n",
       "      <th>missing values count</th>\n",
       "    </tr>\n",
       "  </thead>\n",
       "  <tbody>\n",
       "    <tr>\n",
       "      <th>0</th>\n",
       "      <td>class</td>\n",
       "      <td>0</td>\n",
       "    </tr>\n",
       "    <tr>\n",
       "      <th>1</th>\n",
       "      <td>aa_000</td>\n",
       "      <td>0</td>\n",
       "    </tr>\n",
       "    <tr>\n",
       "      <th>2</th>\n",
       "      <td>ab_000</td>\n",
       "      <td>46329</td>\n",
       "    </tr>\n",
       "    <tr>\n",
       "      <th>3</th>\n",
       "      <td>ac_000</td>\n",
       "      <td>3335</td>\n",
       "    </tr>\n",
       "    <tr>\n",
       "      <th>4</th>\n",
       "      <td>ad_000</td>\n",
       "      <td>14861</td>\n",
       "    </tr>\n",
       "    <tr>\n",
       "      <th>...</th>\n",
       "      <td>...</td>\n",
       "      <td>...</td>\n",
       "    </tr>\n",
       "    <tr>\n",
       "      <th>166</th>\n",
       "      <td>ee_007</td>\n",
       "      <td>671</td>\n",
       "    </tr>\n",
       "    <tr>\n",
       "      <th>167</th>\n",
       "      <td>ee_008</td>\n",
       "      <td>671</td>\n",
       "    </tr>\n",
       "    <tr>\n",
       "      <th>168</th>\n",
       "      <td>ee_009</td>\n",
       "      <td>671</td>\n",
       "    </tr>\n",
       "    <tr>\n",
       "      <th>169</th>\n",
       "      <td>ef_000</td>\n",
       "      <td>2724</td>\n",
       "    </tr>\n",
       "    <tr>\n",
       "      <th>170</th>\n",
       "      <td>eg_000</td>\n",
       "      <td>2723</td>\n",
       "    </tr>\n",
       "  </tbody>\n",
       "</table>\n",
       "<p>171 rows × 2 columns</p>\n",
       "</div>"
      ],
      "text/plain": [
       "    columns  missing values count\n",
       "0     class                     0\n",
       "1    aa_000                     0\n",
       "2    ab_000                 46329\n",
       "3    ac_000                  3335\n",
       "4    ad_000                 14861\n",
       "..      ...                   ...\n",
       "166  ee_007                   671\n",
       "167  ee_008                   671\n",
       "168  ee_009                   671\n",
       "169  ef_000                  2724\n",
       "170  eg_000                  2723\n",
       "\n",
       "[171 rows x 2 columns]"
      ]
     },
     "execution_count": 11,
     "metadata": {},
     "output_type": "execute_result"
    }
   ],
   "source": [
    "dataframe_with_null"
   ]
  },
  {
   "cell_type": "code",
   "execution_count": 12,
   "metadata": {},
   "outputs": [],
   "source": [
    "df = df[df.columns[df.isnull().mean() < 0.6]] # drop if more than 60% of the values arr missing for a column"
   ]
  },
  {
   "cell_type": "code",
   "execution_count": 13,
   "metadata": {},
   "outputs": [],
   "source": [
    "df = df.apply(pd.to_numeric)"
   ]
  },
  {
   "cell_type": "code",
   "execution_count": 14,
   "metadata": {},
   "outputs": [
    {
     "data": {
      "text/plain": [
       "class       int64\n",
       "aa_000      int64\n",
       "ac_000    float64\n",
       "ad_000    float64\n",
       "ae_000    float64\n",
       "           ...   \n",
       "ee_007    float64\n",
       "ee_008    float64\n",
       "ee_009    float64\n",
       "ef_000    float64\n",
       "eg_000    float64\n",
       "Length: 163, dtype: object"
      ]
     },
     "execution_count": 14,
     "metadata": {},
     "output_type": "execute_result"
    }
   ],
   "source": [
    "df.dtypes"
   ]
  },
  {
   "cell_type": "markdown",
   "metadata": {},
   "source": [
    "# Observation:\n",
    "\n",
    "This dataset is highly imbalanced as the number of negative class points are much much more than the positive class points. We can choose to upsample the minority class datapoints, or use a modified classifier to tackle this problem.\n",
    "\n",
    "# Checking for single value features\n",
    "\n",
    "Out of the available features, the ones that have the same value for all datapoints do not hold much importance in improving performance of our model. Hence, we can discard those features.\n",
    "\n",
    "We can remove the features that have standard deviation = 0\n"
   ]
  },
  {
   "cell_type": "code",
   "execution_count": 15,
   "metadata": {},
   "outputs": [],
   "source": [
    "def constant_value(df):\n",
    "    \"\"\"\n",
    "    This function discards columns\n",
    "    that have std. deviation of 0\n",
    "    meaning, all values are constant\n",
    "    \"\"\"\n",
    "    data_n  = df.describe(include = 'all')\n",
    "    col_to_drop = []\n",
    "    \n",
    "    for i in df.columns:\n",
    "        if data_n[i]['std']==0:\n",
    "            col_to_drop.append(i)\n",
    "    df.drop(col_to_drop,axis=1,inplace=True)\n",
    "    \n",
    "    return col_to_drop"
   ]
  },
  {
   "cell_type": "code",
   "execution_count": 16,
   "metadata": {},
   "outputs": [],
   "source": [
    "dropped_feature = constant_value(df)"
   ]
  },
  {
   "cell_type": "code",
   "execution_count": 17,
   "metadata": {},
   "outputs": [
    {
     "name": "stdout",
     "output_type": "stream",
     "text": [
      "The features that are dropped due to having a constant value (0 std. dev.) are:  ['cd_000']\n",
      "Shape of our feature set:  (60000, 162)\n"
     ]
    }
   ],
   "source": [
    "print(\"The features that are dropped due to having a constant value (0 std. dev.) are: \",dropped_feature)\n",
    "print(\"Shape of our feature set: \",df.shape)"
   ]
  },
  {
   "cell_type": "code",
   "execution_count": 18,
   "metadata": {},
   "outputs": [],
   "source": [
    "# relacing null values with mean\n",
    "for col in df.columns:\n",
    "    df[col] = df[col].replace(np.NaN,df[col].mean())"
   ]
  },
  {
   "cell_type": "code",
   "execution_count": 19,
   "metadata": {},
   "outputs": [
    {
     "data": {
      "text/plain": [
       "class     0\n",
       "aa_000    0\n",
       "ac_000    0\n",
       "ad_000    0\n",
       "ae_000    0\n",
       "         ..\n",
       "ee_007    0\n",
       "ee_008    0\n",
       "ee_009    0\n",
       "ef_000    0\n",
       "eg_000    0\n",
       "Length: 162, dtype: int64"
      ]
     },
     "execution_count": 19,
     "metadata": {},
     "output_type": "execute_result"
    }
   ],
   "source": [
    "df.isna().sum()"
   ]
  },
  {
   "cell_type": "code",
   "execution_count": 20,
   "metadata": {},
   "outputs": [],
   "source": [
    "from imblearn.over_sampling import SMOTE"
   ]
  },
  {
   "cell_type": "code",
   "execution_count": 21,
   "metadata": {},
   "outputs": [],
   "source": [
    "sample = SMOTE()"
   ]
  },
  {
   "cell_type": "code",
   "execution_count": 22,
   "metadata": {},
   "outputs": [],
   "source": [
    "X = df.drop(['class'],axis=1)\n",
    "y = df['class']"
   ]
  },
  {
   "cell_type": "code",
   "execution_count": 23,
   "metadata": {},
   "outputs": [],
   "source": [
    "X_bal,y_bal = sample.fit_resample(X,y)"
   ]
  },
  {
   "cell_type": "code",
   "execution_count": 24,
   "metadata": {},
   "outputs": [
    {
     "data": {
      "text/plain": [
       "aa_000      int64\n",
       "ac_000    float64\n",
       "ad_000    float64\n",
       "ae_000    float64\n",
       "af_000    float64\n",
       "           ...   \n",
       "ee_007    float64\n",
       "ee_008    float64\n",
       "ee_009    float64\n",
       "ef_000    float64\n",
       "eg_000    float64\n",
       "Length: 161, dtype: object"
      ]
     },
     "execution_count": 24,
     "metadata": {},
     "output_type": "execute_result"
    }
   ],
   "source": [
    "X.dtypes"
   ]
  },
  {
   "cell_type": "code",
   "execution_count": 25,
   "metadata": {},
   "outputs": [
    {
     "data": {
      "text/plain": [
       "Text(0, 0.5, 'Count')"
      ]
     },
     "execution_count": 25,
     "metadata": {},
     "output_type": "execute_result"
    },
    {
     "data": {
      "image/png": "[encoded data removed]",
      "text/plain": [
       "<Figure size 432x288 with 1 Axes>"
      ]
     },
     "metadata": {
      "needs_background": "light"
     },
     "output_type": "display_data"
    }
   ],
   "source": [
    "# Plotting the distribution of class label\n",
    "sns.countplot(y_bal)\n",
    "plt.title('Class Label Distribution')\n",
    "plt.xlabel('Class Label')\n",
    "plt.ylabel('Count')"
   ]
  },
  {
   "cell_type": "code",
   "execution_count": 19,
   "metadata": {},
   "outputs": [],
   "source": [
    "from sklearn.preprocessing import StandardScaler\n",
    "\n",
    "scaler = StandardScaler()\n"
   ]
  },
  {
   "cell_type": "code",
   "execution_count": 27,
   "metadata": {},
   "outputs": [],
   "source": [
    "X_scaled = scaler.fit_transform(X_bal)"
   ]
  },
  {
   "cell_type": "code",
   "execution_count": 28,
   "metadata": {},
   "outputs": [],
   "source": [
    "X_scaled = pd.DataFrame(X_scaled, columns=X.columns)"
   ]
  },
  {
   "cell_type": "code",
   "execution_count": 29,
   "metadata": {},
   "outputs": [
    {
     "data": {
      "text/html": [
       "<div>\n",
       "<style scoped>\n",
       "    .dataframe tbody tr th:only-of-type {\n",
       "        vertical-align: middle;\n",
       "    }\n",
       "\n",
       "    .dataframe tbody tr th {\n",
       "        vertical-align: top;\n",
       "    }\n",
       "\n",
       "    .dataframe thead th {\n",
       "        text-align: right;\n",
       "    }\n",
       "</style>\n",
       "<table border=\"1\" class=\"dataframe\">\n",
       "  <thead>\n",
       "    <tr style=\"text-align: right;\">\n",
       "      <th></th>\n",
       "      <th>aa_000</th>\n",
       "      <th>ac_000</th>\n",
       "      <th>ad_000</th>\n",
       "      <th>ae_000</th>\n",
       "      <th>af_000</th>\n",
       "      <th>ag_000</th>\n",
       "      <th>ag_001</th>\n",
       "      <th>ag_002</th>\n",
       "      <th>ag_003</th>\n",
       "      <th>ag_004</th>\n",
       "      <th>...</th>\n",
       "      <th>ee_002</th>\n",
       "      <th>ee_003</th>\n",
       "      <th>ee_004</th>\n",
       "      <th>ee_005</th>\n",
       "      <th>ee_006</th>\n",
       "      <th>ee_007</th>\n",
       "      <th>ee_008</th>\n",
       "      <th>ee_009</th>\n",
       "      <th>ef_000</th>\n",
       "      <th>eg_000</th>\n",
       "    </tr>\n",
       "  </thead>\n",
       "  <tbody>\n",
       "    <tr>\n",
       "      <th>0</th>\n",
       "      <td>-0.641659</td>\n",
       "      <td>3.110177</td>\n",
       "      <td>-0.006304</td>\n",
       "      <td>-0.069306</td>\n",
       "      <td>-0.076889</td>\n",
       "      <td>-0.055713</td>\n",
       "      <td>-0.161683</td>\n",
       "      <td>-0.305153</td>\n",
       "      <td>-0.420738</td>\n",
       "      <td>-0.510483</td>\n",
       "      <td>...</td>\n",
       "      <td>-0.316510</td>\n",
       "      <td>-0.343079</td>\n",
       "      <td>-0.429824</td>\n",
       "      <td>-0.479912</td>\n",
       "      <td>-0.484332</td>\n",
       "      <td>-0.423137</td>\n",
       "      <td>-0.324563</td>\n",
       "      <td>-0.224007</td>\n",
       "      <td>-0.040749</td>\n",
       "      <td>-0.054574</td>\n",
       "    </tr>\n",
       "    <tr>\n",
       "      <th>1</th>\n",
       "      <td>-0.744812</td>\n",
       "      <td>-0.467890</td>\n",
       "      <td>0.001313</td>\n",
       "      <td>-0.069306</td>\n",
       "      <td>-0.076889</td>\n",
       "      <td>-0.055713</td>\n",
       "      <td>-0.161683</td>\n",
       "      <td>-0.305153</td>\n",
       "      <td>-0.420738</td>\n",
       "      <td>-0.513195</td>\n",
       "      <td>...</td>\n",
       "      <td>-0.549814</td>\n",
       "      <td>-0.527009</td>\n",
       "      <td>-0.548691</td>\n",
       "      <td>-0.535890</td>\n",
       "      <td>-0.543610</td>\n",
       "      <td>-0.449588</td>\n",
       "      <td>-0.308267</td>\n",
       "      <td>-0.213010</td>\n",
       "      <td>-0.040749</td>\n",
       "      <td>-0.054574</td>\n",
       "    </tr>\n",
       "    <tr>\n",
       "      <th>2</th>\n",
       "      <td>-0.725945</td>\n",
       "      <td>-0.467890</td>\n",
       "      <td>-0.006311</td>\n",
       "      <td>-0.069306</td>\n",
       "      <td>-0.076889</td>\n",
       "      <td>-0.055713</td>\n",
       "      <td>-0.161683</td>\n",
       "      <td>-0.305153</td>\n",
       "      <td>-0.420738</td>\n",
       "      <td>-0.515566</td>\n",
       "      <td>...</td>\n",
       "      <td>-0.590835</td>\n",
       "      <td>-0.537656</td>\n",
       "      <td>-0.512374</td>\n",
       "      <td>-0.494938</td>\n",
       "      <td>-0.489643</td>\n",
       "      <td>-0.423115</td>\n",
       "      <td>-0.309905</td>\n",
       "      <td>-0.220239</td>\n",
       "      <td>-0.040749</td>\n",
       "      <td>-0.054574</td>\n",
       "    </tr>\n",
       "    <tr>\n",
       "      <th>3</th>\n",
       "      <td>-0.822924</td>\n",
       "      <td>-0.467890</td>\n",
       "      <td>-0.006313</td>\n",
       "      <td>-0.069306</td>\n",
       "      <td>-0.044831</td>\n",
       "      <td>-0.055713</td>\n",
       "      <td>-0.161683</td>\n",
       "      <td>-0.305153</td>\n",
       "      <td>-0.420635</td>\n",
       "      <td>-0.515486</td>\n",
       "      <td>...</td>\n",
       "      <td>-0.669771</td>\n",
       "      <td>-0.630850</td>\n",
       "      <td>-0.630183</td>\n",
       "      <td>-0.597105</td>\n",
       "      <td>-0.582160</td>\n",
       "      <td>-0.477528</td>\n",
       "      <td>-0.373564</td>\n",
       "      <td>-0.224007</td>\n",
       "      <td>0.634235</td>\n",
       "      <td>2.708947</td>\n",
       "    </tr>\n",
       "    <tr>\n",
       "      <th>4</th>\n",
       "      <td>-0.679063</td>\n",
       "      <td>-0.467888</td>\n",
       "      <td>-0.006297</td>\n",
       "      <td>-0.069306</td>\n",
       "      <td>-0.076889</td>\n",
       "      <td>-0.055713</td>\n",
       "      <td>-0.161683</td>\n",
       "      <td>-0.305153</td>\n",
       "      <td>-0.420738</td>\n",
       "      <td>-0.509555</td>\n",
       "      <td>...</td>\n",
       "      <td>-0.492675</td>\n",
       "      <td>-0.496837</td>\n",
       "      <td>-0.517569</td>\n",
       "      <td>-0.510499</td>\n",
       "      <td>-0.499390</td>\n",
       "      <td>-0.370246</td>\n",
       "      <td>-0.083168</td>\n",
       "      <td>-0.215077</td>\n",
       "      <td>-0.040749</td>\n",
       "      <td>-0.054574</td>\n",
       "    </tr>\n",
       "    <tr>\n",
       "      <th>...</th>\n",
       "      <td>...</td>\n",
       "      <td>...</td>\n",
       "      <td>...</td>\n",
       "      <td>...</td>\n",
       "      <td>...</td>\n",
       "      <td>...</td>\n",
       "      <td>...</td>\n",
       "      <td>...</td>\n",
       "      <td>...</td>\n",
       "      <td>...</td>\n",
       "      <td>...</td>\n",
       "      <td>...</td>\n",
       "      <td>...</td>\n",
       "      <td>...</td>\n",
       "      <td>...</td>\n",
       "      <td>...</td>\n",
       "      <td>...</td>\n",
       "      <td>...</td>\n",
       "      <td>...</td>\n",
       "      <td>...</td>\n",
       "      <td>...</td>\n",
       "    </tr>\n",
       "    <tr>\n",
       "      <th>117995</th>\n",
       "      <td>0.500109</td>\n",
       "      <td>0.129960</td>\n",
       "      <td>0.001313</td>\n",
       "      <td>-0.021589</td>\n",
       "      <td>-0.041604</td>\n",
       "      <td>-0.055713</td>\n",
       "      <td>-0.161683</td>\n",
       "      <td>-0.249975</td>\n",
       "      <td>-0.102915</td>\n",
       "      <td>1.002711</td>\n",
       "      <td>...</td>\n",
       "      <td>1.147577</td>\n",
       "      <td>0.419111</td>\n",
       "      <td>-0.006864</td>\n",
       "      <td>-0.258239</td>\n",
       "      <td>0.035400</td>\n",
       "      <td>2.548947</td>\n",
       "      <td>-0.048092</td>\n",
       "      <td>-0.198788</td>\n",
       "      <td>-0.025465</td>\n",
       "      <td>-0.036200</td>\n",
       "    </tr>\n",
       "    <tr>\n",
       "      <th>117996</th>\n",
       "      <td>1.333631</td>\n",
       "      <td>-0.467890</td>\n",
       "      <td>0.001313</td>\n",
       "      <td>-0.069306</td>\n",
       "      <td>-0.076889</td>\n",
       "      <td>-0.055713</td>\n",
       "      <td>-0.161683</td>\n",
       "      <td>-0.305153</td>\n",
       "      <td>-0.415341</td>\n",
       "      <td>-0.137778</td>\n",
       "      <td>...</td>\n",
       "      <td>1.995477</td>\n",
       "      <td>2.137677</td>\n",
       "      <td>1.999748</td>\n",
       "      <td>1.205449</td>\n",
       "      <td>1.138845</td>\n",
       "      <td>0.416404</td>\n",
       "      <td>1.128896</td>\n",
       "      <td>0.114356</td>\n",
       "      <td>-0.040749</td>\n",
       "      <td>-0.054574</td>\n",
       "    </tr>\n",
       "    <tr>\n",
       "      <th>117997</th>\n",
       "      <td>-0.513550</td>\n",
       "      <td>-0.467890</td>\n",
       "      <td>-0.006309</td>\n",
       "      <td>-0.069306</td>\n",
       "      <td>-0.076889</td>\n",
       "      <td>-0.055713</td>\n",
       "      <td>-0.161683</td>\n",
       "      <td>-0.303508</td>\n",
       "      <td>-0.331466</td>\n",
       "      <td>-0.115483</td>\n",
       "      <td>...</td>\n",
       "      <td>-0.449391</td>\n",
       "      <td>-0.368409</td>\n",
       "      <td>-0.269549</td>\n",
       "      <td>-0.235118</td>\n",
       "      <td>-0.068243</td>\n",
       "      <td>-0.399810</td>\n",
       "      <td>-0.368990</td>\n",
       "      <td>-0.224007</td>\n",
       "      <td>-0.040749</td>\n",
       "      <td>-0.054574</td>\n",
       "    </tr>\n",
       "    <tr>\n",
       "      <th>117998</th>\n",
       "      <td>0.045526</td>\n",
       "      <td>-0.467886</td>\n",
       "      <td>-0.006276</td>\n",
       "      <td>2.403858</td>\n",
       "      <td>25.275927</td>\n",
       "      <td>-0.055713</td>\n",
       "      <td>-0.157517</td>\n",
       "      <td>0.069710</td>\n",
       "      <td>-0.019529</td>\n",
       "      <td>0.478459</td>\n",
       "      <td>...</td>\n",
       "      <td>-0.074256</td>\n",
       "      <td>-0.106611</td>\n",
       "      <td>-0.079885</td>\n",
       "      <td>-0.331042</td>\n",
       "      <td>0.076316</td>\n",
       "      <td>1.959575</td>\n",
       "      <td>-0.326912</td>\n",
       "      <td>-0.223699</td>\n",
       "      <td>0.549749</td>\n",
       "      <td>2.967450</td>\n",
       "    </tr>\n",
       "    <tr>\n",
       "      <th>117999</th>\n",
       "      <td>0.332786</td>\n",
       "      <td>-0.467890</td>\n",
       "      <td>-0.006285</td>\n",
       "      <td>-0.069306</td>\n",
       "      <td>-0.076889</td>\n",
       "      <td>-0.055713</td>\n",
       "      <td>-0.161683</td>\n",
       "      <td>-0.305153</td>\n",
       "      <td>-0.420738</td>\n",
       "      <td>-0.515801</td>\n",
       "      <td>...</td>\n",
       "      <td>-0.669839</td>\n",
       "      <td>-0.630876</td>\n",
       "      <td>-0.630200</td>\n",
       "      <td>-0.597116</td>\n",
       "      <td>-0.582163</td>\n",
       "      <td>-0.477528</td>\n",
       "      <td>-0.373564</td>\n",
       "      <td>-0.224007</td>\n",
       "      <td>-0.040749</td>\n",
       "      <td>-0.054574</td>\n",
       "    </tr>\n",
       "  </tbody>\n",
       "</table>\n",
       "<p>118000 rows × 161 columns</p>\n",
       "</div>"
      ],
      "text/plain": [
       "          aa_000    ac_000    ad_000    ae_000     af_000    ag_000    ag_001  \\\n",
       "0      -0.641659  3.110177 -0.006304 -0.069306  -0.076889 -0.055713 -0.161683   \n",
       "1      -0.744812 -0.467890  0.001313 -0.069306  -0.076889 -0.055713 -0.161683   \n",
       "2      -0.725945 -0.467890 -0.006311 -0.069306  -0.076889 -0.055713 -0.161683   \n",
       "3      -0.822924 -0.467890 -0.006313 -0.069306  -0.044831 -0.055713 -0.161683   \n",
       "4      -0.679063 -0.467888 -0.006297 -0.069306  -0.076889 -0.055713 -0.161683   \n",
       "...          ...       ...       ...       ...        ...       ...       ...   \n",
       "117995  0.500109  0.129960  0.001313 -0.021589  -0.041604 -0.055713 -0.161683   \n",
       "117996  1.333631 -0.467890  0.001313 -0.069306  -0.076889 -0.055713 -0.161683   \n",
       "117997 -0.513550 -0.467890 -0.006309 -0.069306  -0.076889 -0.055713 -0.161683   \n",
       "117998  0.045526 -0.467886 -0.006276  2.403858  25.275927 -0.055713 -0.157517   \n",
       "117999  0.332786 -0.467890 -0.006285 -0.069306  -0.076889 -0.055713 -0.161683   \n",
       "\n",
       "          ag_002    ag_003    ag_004  ...    ee_002    ee_003    ee_004  \\\n",
       "0      -0.305153 -0.420738 -0.510483  ... -0.316510 -0.343079 -0.429824   \n",
       "1      -0.305153 -0.420738 -0.513195  ... -0.549814 -0.527009 -0.548691   \n",
       "2      -0.305153 -0.420738 -0.515566  ... -0.590835 -0.537656 -0.512374   \n",
       "3      -0.305153 -0.420635 -0.515486  ... -0.669771 -0.630850 -0.630183   \n",
       "4      -0.305153 -0.420738 -0.509555  ... -0.492675 -0.496837 -0.517569   \n",
       "...          ...       ...       ...  ...       ...       ...       ...   \n",
       "117995 -0.249975 -0.102915  1.002711  ...  1.147577  0.419111 -0.006864   \n",
       "117996 -0.305153 -0.415341 -0.137778  ...  1.995477  2.137677  1.999748   \n",
       "117997 -0.303508 -0.331466 -0.115483  ... -0.449391 -0.368409 -0.269549   \n",
       "117998  0.069710 -0.019529  0.478459  ... -0.074256 -0.106611 -0.079885   \n",
       "117999 -0.305153 -0.420738 -0.515801  ... -0.669839 -0.630876 -0.630200   \n",
       "\n",
       "          ee_005    ee_006    ee_007    ee_008    ee_009    ef_000    eg_000  \n",
       "0      -0.479912 -0.484332 -0.423137 -0.324563 -0.224007 -0.040749 -0.054574  \n",
       "1      -0.535890 -0.543610 -0.449588 -0.308267 -0.213010 -0.040749 -0.054574  \n",
       "2      -0.494938 -0.489643 -0.423115 -0.309905 -0.220239 -0.040749 -0.054574  \n",
       "3      -0.597105 -0.582160 -0.477528 -0.373564 -0.224007  0.634235  2.708947  \n",
       "4      -0.510499 -0.499390 -0.370246 -0.083168 -0.215077 -0.040749 -0.054574  \n",
       "...          ...       ...       ...       ...       ...       ...       ...  \n",
       "117995 -0.258239  0.035400  2.548947 -0.048092 -0.198788 -0.025465 -0.036200  \n",
       "117996  1.205449  1.138845  0.416404  1.128896  0.114356 -0.040749 -0.054574  \n",
       "117997 -0.235118 -0.068243 -0.399810 -0.368990 -0.224007 -0.040749 -0.054574  \n",
       "117998 -0.331042  0.076316  1.959575 -0.326912 -0.223699  0.549749  2.967450  \n",
       "117999 -0.597116 -0.582163 -0.477528 -0.373564 -0.224007 -0.040749 -0.054574  \n",
       "\n",
       "[118000 rows x 161 columns]"
      ]
     },
     "execution_count": 29,
     "metadata": {},
     "output_type": "execute_result"
    }
   ],
   "source": [
    "X_scaled"
   ]
  },
  {
   "cell_type": "code",
   "execution_count": 20,
   "metadata": {},
   "outputs": [],
   "source": [
    "from sklearn.decomposition import PCA\n",
    "pca = PCA(n_components=161)"
   ]
  },
  {
   "cell_type": "code",
   "execution_count": 31,
   "metadata": {},
   "outputs": [
    {
     "data": {
      "text/plain": [
       "PCA(n_components=161)"
      ]
     },
     "execution_count": 31,
     "metadata": {},
     "output_type": "execute_result"
    }
   ],
   "source": [
    "pca.fit(X_scaled)"
   ]
  },
  {
   "cell_type": "code",
   "execution_count": 32,
   "metadata": {},
   "outputs": [],
   "source": [
    "var= pca.explained_variance_ratio_"
   ]
  },
  {
   "cell_type": "code",
   "execution_count": 33,
   "metadata": {},
   "outputs": [
    {
     "name": "stdout",
     "output_type": "stream",
     "text": [
      "[28.92 35.78 40.34 43.65 46.63 49.06 51.25 53.2  55.06 56.74 58.31 59.7\n",
      " 61.05 62.38 63.57 64.67 65.74 66.79 67.82 68.82 69.8  70.72 71.61 72.43\n",
      " 73.24 74.01 74.76 75.49 76.21 76.91 77.59 78.26 78.91 79.54 80.16 80.78\n",
      " 81.4  82.01 82.61 83.2  83.78 84.34 84.88 85.42 85.95 86.46 86.96 87.44\n",
      " 87.91 88.34 88.76 89.17 89.57 89.96 90.33 90.7  91.06 91.4  91.74 92.06\n",
      " 92.37 92.66 92.95 93.23 93.48 93.72 93.96 94.19 94.41 94.63 94.84 95.04\n",
      " 95.24 95.44 95.62 95.8  95.97 96.13 96.29 96.44 96.59 96.74 96.88 97.02\n",
      " 97.15 97.28 97.4  97.52 97.64 97.75 97.86 97.97 98.07 98.17 98.27 98.37\n",
      " 98.46 98.55 98.64 98.72 98.8  98.87 98.94 99.01 99.08 99.14 99.2  99.26\n",
      " 99.31 99.36 99.41 99.46 99.5  99.54 99.58 99.62 99.65 99.68 99.71 99.74\n",
      " 99.76 99.78 99.8  99.82 99.84 99.86 99.87 99.88 99.89 99.9  99.91 99.92\n",
      " 99.93 99.94 99.95 99.96 99.97 99.98 99.99 99.99 99.99 99.99 99.99 99.99\n",
      " 99.99 99.99 99.99 99.99 99.99 99.99 99.99 99.99 99.99 99.99 99.99 99.99\n",
      " 99.99 99.99 99.99 99.99 99.99]\n"
     ]
    }
   ],
   "source": [
    "var1=np.cumsum(np.round(pca.explained_variance_ratio_, decimals=4)*100)\n",
    "\n",
    "print(var1)"
   ]
  },
  {
   "cell_type": "code",
   "execution_count": 34,
   "metadata": {},
   "outputs": [
    {
     "data": {
      "image/png": "[encoded data removed]",
      "text/plain": [
       "<Figure size 432x288 with 1 Axes>"
      ]
     },
     "metadata": {
      "needs_background": "light"
     },
     "output_type": "display_data"
    }
   ],
   "source": [
    "principalComponents = pca.fit_transform(X_scaled)\n",
    "plt.figure()\n",
    "plt.plot(np.cumsum(pca.explained_variance_ratio_))\n",
    "plt.xlabel('Number of Components')\n",
    "plt.ylabel('Variance (%)') #for each component\n",
    "plt.title('Explained Variance')\n",
    "plt.show()"
   ]
  },
  {
   "cell_type": "code",
   "execution_count": 35,
   "metadata": {},
   "outputs": [
    {
     "data": {
      "text/html": [
       "<div>\n",
       "<style scoped>\n",
       "    .dataframe tbody tr th:only-of-type {\n",
       "        vertical-align: middle;\n",
       "    }\n",
       "\n",
       "    .dataframe tbody tr th {\n",
       "        vertical-align: top;\n",
       "    }\n",
       "\n",
       "    .dataframe thead th {\n",
       "        text-align: right;\n",
       "    }\n",
       "</style>\n",
       "<table border=\"1\" class=\"dataframe\">\n",
       "  <thead>\n",
       "    <tr style=\"text-align: right;\">\n",
       "      <th></th>\n",
       "      <th>0</th>\n",
       "      <th>1</th>\n",
       "      <th>2</th>\n",
       "      <th>3</th>\n",
       "      <th>4</th>\n",
       "      <th>5</th>\n",
       "      <th>6</th>\n",
       "      <th>7</th>\n",
       "      <th>8</th>\n",
       "      <th>9</th>\n",
       "      <th>...</th>\n",
       "      <th>94</th>\n",
       "      <th>95</th>\n",
       "      <th>96</th>\n",
       "      <th>97</th>\n",
       "      <th>98</th>\n",
       "      <th>99</th>\n",
       "      <th>100</th>\n",
       "      <th>101</th>\n",
       "      <th>102</th>\n",
       "      <th>103</th>\n",
       "    </tr>\n",
       "  </thead>\n",
       "  <tbody>\n",
       "    <tr>\n",
       "      <th>0</th>\n",
       "      <td>-3.880019</td>\n",
       "      <td>-0.647550</td>\n",
       "      <td>0.110323</td>\n",
       "      <td>0.383855</td>\n",
       "      <td>0.103530</td>\n",
       "      <td>0.313643</td>\n",
       "      <td>0.316946</td>\n",
       "      <td>0.510793</td>\n",
       "      <td>-1.593252e-02</td>\n",
       "      <td>0.920738</td>\n",
       "      <td>...</td>\n",
       "      <td>-0.021868</td>\n",
       "      <td>-0.311363</td>\n",
       "      <td>0.393837</td>\n",
       "      <td>0.002066</td>\n",
       "      <td>-0.003570</td>\n",
       "      <td>-0.025777</td>\n",
       "      <td>-0.105070</td>\n",
       "      <td>0.179622</td>\n",
       "      <td>0.107261</td>\n",
       "      <td>0.119846</td>\n",
       "    </tr>\n",
       "    <tr>\n",
       "      <th>1</th>\n",
       "      <td>-4.953021</td>\n",
       "      <td>-0.451910</td>\n",
       "      <td>-0.284450</td>\n",
       "      <td>0.434940</td>\n",
       "      <td>0.024277</td>\n",
       "      <td>-0.144228</td>\n",
       "      <td>0.038282</td>\n",
       "      <td>0.041423</td>\n",
       "      <td>-6.711389e-07</td>\n",
       "      <td>0.134763</td>\n",
       "      <td>...</td>\n",
       "      <td>-0.049402</td>\n",
       "      <td>0.046930</td>\n",
       "      <td>-0.173033</td>\n",
       "      <td>0.042725</td>\n",
       "      <td>0.059163</td>\n",
       "      <td>-0.117475</td>\n",
       "      <td>-0.079297</td>\n",
       "      <td>0.145081</td>\n",
       "      <td>-0.152853</td>\n",
       "      <td>0.120250</td>\n",
       "    </tr>\n",
       "    <tr>\n",
       "      <th>2</th>\n",
       "      <td>-5.262700</td>\n",
       "      <td>-0.400037</td>\n",
       "      <td>-0.484755</td>\n",
       "      <td>0.609947</td>\n",
       "      <td>0.118568</td>\n",
       "      <td>-0.180435</td>\n",
       "      <td>-0.392435</td>\n",
       "      <td>-0.172740</td>\n",
       "      <td>-1.598227e-02</td>\n",
       "      <td>0.054327</td>\n",
       "      <td>...</td>\n",
       "      <td>-0.011448</td>\n",
       "      <td>-0.022856</td>\n",
       "      <td>-0.001306</td>\n",
       "      <td>0.024939</td>\n",
       "      <td>-0.014354</td>\n",
       "      <td>-0.025949</td>\n",
       "      <td>-0.017552</td>\n",
       "      <td>0.009867</td>\n",
       "      <td>0.009242</td>\n",
       "      <td>-0.027226</td>\n",
       "    </tr>\n",
       "    <tr>\n",
       "      <th>3</th>\n",
       "      <td>-5.936027</td>\n",
       "      <td>-0.306059</td>\n",
       "      <td>-0.759260</td>\n",
       "      <td>0.350765</td>\n",
       "      <td>0.170394</td>\n",
       "      <td>-0.283603</td>\n",
       "      <td>-0.309638</td>\n",
       "      <td>-0.080452</td>\n",
       "      <td>-1.243312e-02</td>\n",
       "      <td>-0.917953</td>\n",
       "      <td>...</td>\n",
       "      <td>0.031589</td>\n",
       "      <td>-0.017467</td>\n",
       "      <td>-0.001945</td>\n",
       "      <td>-0.012709</td>\n",
       "      <td>-0.019142</td>\n",
       "      <td>-0.026704</td>\n",
       "      <td>-0.020750</td>\n",
       "      <td>0.005446</td>\n",
       "      <td>-0.056069</td>\n",
       "      <td>0.011521</td>\n",
       "    </tr>\n",
       "    <tr>\n",
       "      <th>4</th>\n",
       "      <td>-4.581834</td>\n",
       "      <td>-0.295715</td>\n",
       "      <td>0.019312</td>\n",
       "      <td>0.232992</td>\n",
       "      <td>0.059540</td>\n",
       "      <td>-0.041633</td>\n",
       "      <td>-0.060857</td>\n",
       "      <td>0.144904</td>\n",
       "      <td>-8.615125e-03</td>\n",
       "      <td>0.438927</td>\n",
       "      <td>...</td>\n",
       "      <td>-0.022958</td>\n",
       "      <td>-0.085550</td>\n",
       "      <td>-0.009987</td>\n",
       "      <td>0.031356</td>\n",
       "      <td>-0.078482</td>\n",
       "      <td>-0.002086</td>\n",
       "      <td>-0.064283</td>\n",
       "      <td>-0.108062</td>\n",
       "      <td>-0.083797</td>\n",
       "      <td>-0.114685</td>\n",
       "    </tr>\n",
       "    <tr>\n",
       "      <th>...</th>\n",
       "      <td>...</td>\n",
       "      <td>...</td>\n",
       "      <td>...</td>\n",
       "      <td>...</td>\n",
       "      <td>...</td>\n",
       "      <td>...</td>\n",
       "      <td>...</td>\n",
       "      <td>...</td>\n",
       "      <td>...</td>\n",
       "      <td>...</td>\n",
       "      <td>...</td>\n",
       "      <td>...</td>\n",
       "      <td>...</td>\n",
       "      <td>...</td>\n",
       "      <td>...</td>\n",
       "      <td>...</td>\n",
       "      <td>...</td>\n",
       "      <td>...</td>\n",
       "      <td>...</td>\n",
       "      <td>...</td>\n",
       "      <td>...</td>\n",
       "    </tr>\n",
       "    <tr>\n",
       "      <th>117995</th>\n",
       "      <td>4.810655</td>\n",
       "      <td>0.036726</td>\n",
       "      <td>-2.238476</td>\n",
       "      <td>-1.188556</td>\n",
       "      <td>1.264945</td>\n",
       "      <td>-0.011479</td>\n",
       "      <td>-0.409517</td>\n",
       "      <td>2.159537</td>\n",
       "      <td>1.443021e-02</td>\n",
       "      <td>0.363888</td>\n",
       "      <td>...</td>\n",
       "      <td>0.140473</td>\n",
       "      <td>0.112299</td>\n",
       "      <td>0.641171</td>\n",
       "      <td>0.467267</td>\n",
       "      <td>-0.400204</td>\n",
       "      <td>1.000443</td>\n",
       "      <td>-0.599797</td>\n",
       "      <td>0.068176</td>\n",
       "      <td>-0.199978</td>\n",
       "      <td>0.830881</td>\n",
       "    </tr>\n",
       "    <tr>\n",
       "      <th>117996</th>\n",
       "      <td>10.319945</td>\n",
       "      <td>-5.972095</td>\n",
       "      <td>3.366353</td>\n",
       "      <td>2.849116</td>\n",
       "      <td>-3.995978</td>\n",
       "      <td>-2.032478</td>\n",
       "      <td>-0.528067</td>\n",
       "      <td>-1.527172</td>\n",
       "      <td>-9.603590e-03</td>\n",
       "      <td>0.465336</td>\n",
       "      <td>...</td>\n",
       "      <td>0.095300</td>\n",
       "      <td>-0.134036</td>\n",
       "      <td>0.032840</td>\n",
       "      <td>0.709557</td>\n",
       "      <td>0.315381</td>\n",
       "      <td>-0.242784</td>\n",
       "      <td>0.579584</td>\n",
       "      <td>-0.244009</td>\n",
       "      <td>0.333661</td>\n",
       "      <td>-0.288042</td>\n",
       "    </tr>\n",
       "    <tr>\n",
       "      <th>117997</th>\n",
       "      <td>-2.990049</td>\n",
       "      <td>0.906492</td>\n",
       "      <td>0.663906</td>\n",
       "      <td>0.551393</td>\n",
       "      <td>0.035606</td>\n",
       "      <td>-0.086758</td>\n",
       "      <td>-0.105660</td>\n",
       "      <td>0.509789</td>\n",
       "      <td>-6.315004e-03</td>\n",
       "      <td>-0.569736</td>\n",
       "      <td>...</td>\n",
       "      <td>0.162130</td>\n",
       "      <td>0.206940</td>\n",
       "      <td>0.067054</td>\n",
       "      <td>0.021728</td>\n",
       "      <td>-0.475849</td>\n",
       "      <td>0.185746</td>\n",
       "      <td>-0.259736</td>\n",
       "      <td>0.052383</td>\n",
       "      <td>0.119055</td>\n",
       "      <td>0.082234</td>\n",
       "    </tr>\n",
       "    <tr>\n",
       "      <th>117998</th>\n",
       "      <td>1.621136</td>\n",
       "      <td>4.519305</td>\n",
       "      <td>4.586104</td>\n",
       "      <td>0.007087</td>\n",
       "      <td>0.624604</td>\n",
       "      <td>0.752471</td>\n",
       "      <td>-4.317421</td>\n",
       "      <td>9.152191</td>\n",
       "      <td>1.079813e-01</td>\n",
       "      <td>-10.199411</td>\n",
       "      <td>...</td>\n",
       "      <td>0.405084</td>\n",
       "      <td>-0.475873</td>\n",
       "      <td>0.072600</td>\n",
       "      <td>0.700467</td>\n",
       "      <td>-0.032481</td>\n",
       "      <td>-0.320502</td>\n",
       "      <td>-0.047843</td>\n",
       "      <td>0.243170</td>\n",
       "      <td>0.067880</td>\n",
       "      <td>-0.135517</td>\n",
       "    </tr>\n",
       "    <tr>\n",
       "      <th>117999</th>\n",
       "      <td>-1.316458</td>\n",
       "      <td>2.295860</td>\n",
       "      <td>0.296458</td>\n",
       "      <td>-4.757454</td>\n",
       "      <td>-1.577356</td>\n",
       "      <td>0.801072</td>\n",
       "      <td>-0.917436</td>\n",
       "      <td>1.241462</td>\n",
       "      <td>-8.928914e-03</td>\n",
       "      <td>2.395117</td>\n",
       "      <td>...</td>\n",
       "      <td>0.070821</td>\n",
       "      <td>-0.223377</td>\n",
       "      <td>0.576768</td>\n",
       "      <td>-0.007049</td>\n",
       "      <td>-0.273190</td>\n",
       "      <td>0.079870</td>\n",
       "      <td>0.137048</td>\n",
       "      <td>0.106429</td>\n",
       "      <td>-0.407124</td>\n",
       "      <td>0.229187</td>\n",
       "    </tr>\n",
       "  </tbody>\n",
       "</table>\n",
       "<p>118000 rows × 104 columns</p>\n",
       "</div>"
      ],
      "text/plain": [
       "              0         1         2         3         4         5         6    \\\n",
       "0       -3.880019 -0.647550  0.110323  0.383855  0.103530  0.313643  0.316946   \n",
       "1       -4.953021 -0.451910 -0.284450  0.434940  0.024277 -0.144228  0.038282   \n",
       "2       -5.262700 -0.400037 -0.484755  0.609947  0.118568 -0.180435 -0.392435   \n",
       "3       -5.936027 -0.306059 -0.759260  0.350765  0.170394 -0.283603 -0.309638   \n",
       "4       -4.581834 -0.295715  0.019312  0.232992  0.059540 -0.041633 -0.060857   \n",
       "...           ...       ...       ...       ...       ...       ...       ...   \n",
       "117995   4.810655  0.036726 -2.238476 -1.188556  1.264945 -0.011479 -0.409517   \n",
       "117996  10.319945 -5.972095  3.366353  2.849116 -3.995978 -2.032478 -0.528067   \n",
       "117997  -2.990049  0.906492  0.663906  0.551393  0.035606 -0.086758 -0.105660   \n",
       "117998   1.621136  4.519305  4.586104  0.007087  0.624604  0.752471 -4.317421   \n",
       "117999  -1.316458  2.295860  0.296458 -4.757454 -1.577356  0.801072 -0.917436   \n",
       "\n",
       "             7             8          9    ...       94        95        96   \\\n",
       "0       0.510793 -1.593252e-02   0.920738  ... -0.021868 -0.311363  0.393837   \n",
       "1       0.041423 -6.711389e-07   0.134763  ... -0.049402  0.046930 -0.173033   \n",
       "2      -0.172740 -1.598227e-02   0.054327  ... -0.011448 -0.022856 -0.001306   \n",
       "3      -0.080452 -1.243312e-02  -0.917953  ...  0.031589 -0.017467 -0.001945   \n",
       "4       0.144904 -8.615125e-03   0.438927  ... -0.022958 -0.085550 -0.009987   \n",
       "...          ...           ...        ...  ...       ...       ...       ...   \n",
       "117995  2.159537  1.443021e-02   0.363888  ...  0.140473  0.112299  0.641171   \n",
       "117996 -1.527172 -9.603590e-03   0.465336  ...  0.095300 -0.134036  0.032840   \n",
       "117997  0.509789 -6.315004e-03  -0.569736  ...  0.162130  0.206940  0.067054   \n",
       "117998  9.152191  1.079813e-01 -10.199411  ...  0.405084 -0.475873  0.072600   \n",
       "117999  1.241462 -8.928914e-03   2.395117  ...  0.070821 -0.223377  0.576768   \n",
       "\n",
       "             97        98        99        100       101       102       103  \n",
       "0       0.002066 -0.003570 -0.025777 -0.105070  0.179622  0.107261  0.119846  \n",
       "1       0.042725  0.059163 -0.117475 -0.079297  0.145081 -0.152853  0.120250  \n",
       "2       0.024939 -0.014354 -0.025949 -0.017552  0.009867  0.009242 -0.027226  \n",
       "3      -0.012709 -0.019142 -0.026704 -0.020750  0.005446 -0.056069  0.011521  \n",
       "4       0.031356 -0.078482 -0.002086 -0.064283 -0.108062 -0.083797 -0.114685  \n",
       "...          ...       ...       ...       ...       ...       ...       ...  \n",
       "117995  0.467267 -0.400204  1.000443 -0.599797  0.068176 -0.199978  0.830881  \n",
       "117996  0.709557  0.315381 -0.242784  0.579584 -0.244009  0.333661 -0.288042  \n",
       "117997  0.021728 -0.475849  0.185746 -0.259736  0.052383  0.119055  0.082234  \n",
       "117998  0.700467 -0.032481 -0.320502 -0.047843  0.243170  0.067880 -0.135517  \n",
       "117999 -0.007049 -0.273190  0.079870  0.137048  0.106429 -0.407124  0.229187  \n",
       "\n",
       "[118000 rows x 104 columns]"
      ]
     },
     "execution_count": 35,
     "metadata": {},
     "output_type": "execute_result"
    }
   ],
   "source": [
    "pca = PCA(n_components=104)\n",
    "new_data = pca.fit_transform(X_scaled)\n",
    "\n",
    "principal_x = pd.DataFrame(new_data,index=X_scaled.index)\n",
    "principal_x"
   ]
  },
  {
   "cell_type": "code",
   "execution_count": 36,
   "metadata": {},
   "outputs": [],
   "source": [
    "from sklearn.model_selection import train_test_split\n",
    "x_train,x_test,y_train,y_test = train_test_split(principal_x,y_bal,test_size = 1/3)"
   ]
  },
  {
   "cell_type": "code",
   "execution_count": 37,
   "metadata": {},
   "outputs": [],
   "source": [
    "from sklearn.model_selection import GridSearchCV\n",
    "from sklearn.neighbors import KNeighborsClassifier"
   ]
  },
  {
   "cell_type": "code",
   "execution_count": 38,
   "metadata": {},
   "outputs": [],
   "source": [
    "knn = KNeighborsClassifier()"
   ]
  },
  {
   "cell_type": "code",
   "execution_count": 39,
   "metadata": {},
   "outputs": [],
   "source": [
    "param_grid_knn = {\n",
    "                'algorithm': ['ball_tree', 'kd_tree'],\n",
    "                'leaf_size': [10, 17, 24, 28, 30, 35],\n",
    "                'n_neighbors': [4, 5, 8, 10, 11],\n",
    "                'p': [1, 2]\n",
    "            }"
   ]
  },
  {
   "cell_type": "code",
   "execution_count": 40,
   "metadata": {},
   "outputs": [],
   "source": [
    "grid = GridSearchCV(knn,param_grid_knn, verbose=3,cv=4)"
   ]
  },
  {
   "cell_type": "code",
   "execution_count": null,
   "metadata": {},
   "outputs": [],
   "source": [
    "grid.fit(x_train,y_train)"
   ]
  },
  {
   "cell_type": "code",
   "execution_count": null,
   "metadata": {},
   "outputs": [],
   "source": [
    "algorithm = grid.best_params_['algorithm']\n",
    "leaf_size = grid.best_params_['leaf_size']\n",
    "n_neighbors = grid.best_params_['n_neighbors']\n",
    "p = grid.best_params_['p']"
   ]
  },
  {
   "cell_type": "code",
   "execution_count": 41,
   "metadata": {},
   "outputs": [],
   "source": [
    "# after getting best parameters\n",
    "knn = KNeighborsClassifier(algorithm = 'ball_tree', leaf_size=10, n_neighbors=4, p=1)"
   ]
  },
  {
   "cell_type": "code",
   "execution_count": 42,
   "metadata": {},
   "outputs": [
    {
     "data": {
      "text/plain": [
       "KNeighborsClassifier(algorithm='ball_tree', leaf_size=10, n_neighbors=4, p=1)"
      ]
     },
     "execution_count": 42,
     "metadata": {},
     "output_type": "execute_result"
    }
   ],
   "source": [
    "knn.fit(x_train,y_train)"
   ]
  },
  {
   "cell_type": "code",
   "execution_count": 47,
   "metadata": {},
   "outputs": [],
   "source": [
    "y_pred = knn.predict(x_test)"
   ]
  },
  {
   "cell_type": "code",
   "execution_count": 48,
   "metadata": {},
   "outputs": [
    {
     "data": {
      "text/plain": [
       "0.9922204708394773"
      ]
     },
     "execution_count": 48,
     "metadata": {},
     "output_type": "execute_result"
    }
   ],
   "source": [
    "from sklearn.metrics  import roc_auc_score,accuracy_score\n",
    "accuracy_score(y_test, y_pred)"
   ]
  },
  {
   "cell_type": "code",
   "execution_count": 2,
   "metadata": {},
   "outputs": [],
   "source": [
    "import pickle"
   ]
  },
  {
   "cell_type": "code",
   "execution_count": 3,
   "metadata": {},
   "outputs": [],
   "source": [
    "filename = 'C:/Users/kiran/Desktop/Final Projects/Scania APS/models/SVC/SVC.sav'"
   ]
  },
  {
   "cell_type": "code",
   "execution_count": 4,
   "metadata": {},
   "outputs": [],
   "source": [
    "loaded_model = pickle.load(open(filename, 'rb'))"
   ]
  },
  {
   "cell_type": "code",
   "execution_count": 5,
   "metadata": {},
   "outputs": [
    {
     "name": "stdout",
     "output_type": "stream",
     "text": [
      "(16000, 171)\n"
     ]
    },
    {
     "data": {
      "text/html": [
       "<div>\n",
       "<style scoped>\n",
       "    .dataframe tbody tr th:only-of-type {\n",
       "        vertical-align: middle;\n",
       "    }\n",
       "\n",
       "    .dataframe tbody tr th {\n",
       "        vertical-align: top;\n",
       "    }\n",
       "\n",
       "    .dataframe thead th {\n",
       "        text-align: right;\n",
       "    }\n",
       "</style>\n",
       "<table border=\"1\" class=\"dataframe\">\n",
       "  <thead>\n",
       "    <tr style=\"text-align: right;\">\n",
       "      <th></th>\n",
       "      <th>class</th>\n",
       "      <th>aa_000</th>\n",
       "      <th>ab_000</th>\n",
       "      <th>ac_000</th>\n",
       "      <th>ad_000</th>\n",
       "      <th>ae_000</th>\n",
       "      <th>af_000</th>\n",
       "      <th>ag_000</th>\n",
       "      <th>ag_001</th>\n",
       "      <th>ag_002</th>\n",
       "      <th>...</th>\n",
       "      <th>ee_002</th>\n",
       "      <th>ee_003</th>\n",
       "      <th>ee_004</th>\n",
       "      <th>ee_005</th>\n",
       "      <th>ee_006</th>\n",
       "      <th>ee_007</th>\n",
       "      <th>ee_008</th>\n",
       "      <th>ee_009</th>\n",
       "      <th>ef_000</th>\n",
       "      <th>eg_000</th>\n",
       "    </tr>\n",
       "  </thead>\n",
       "  <tbody>\n",
       "    <tr>\n",
       "      <th>0</th>\n",
       "      <td>neg</td>\n",
       "      <td>60</td>\n",
       "      <td>0</td>\n",
       "      <td>20</td>\n",
       "      <td>12</td>\n",
       "      <td>0</td>\n",
       "      <td>0</td>\n",
       "      <td>0</td>\n",
       "      <td>0</td>\n",
       "      <td>0</td>\n",
       "      <td>...</td>\n",
       "      <td>1098</td>\n",
       "      <td>138</td>\n",
       "      <td>412</td>\n",
       "      <td>654</td>\n",
       "      <td>78</td>\n",
       "      <td>88</td>\n",
       "      <td>0</td>\n",
       "      <td>0</td>\n",
       "      <td>0</td>\n",
       "      <td>0</td>\n",
       "    </tr>\n",
       "    <tr>\n",
       "      <th>1</th>\n",
       "      <td>neg</td>\n",
       "      <td>82</td>\n",
       "      <td>0</td>\n",
       "      <td>68</td>\n",
       "      <td>40</td>\n",
       "      <td>0</td>\n",
       "      <td>0</td>\n",
       "      <td>0</td>\n",
       "      <td>0</td>\n",
       "      <td>0</td>\n",
       "      <td>...</td>\n",
       "      <td>1068</td>\n",
       "      <td>276</td>\n",
       "      <td>1620</td>\n",
       "      <td>116</td>\n",
       "      <td>86</td>\n",
       "      <td>462</td>\n",
       "      <td>0</td>\n",
       "      <td>0</td>\n",
       "      <td>0</td>\n",
       "      <td>0</td>\n",
       "    </tr>\n",
       "    <tr>\n",
       "      <th>2</th>\n",
       "      <td>neg</td>\n",
       "      <td>66002</td>\n",
       "      <td>2</td>\n",
       "      <td>212</td>\n",
       "      <td>112</td>\n",
       "      <td>0</td>\n",
       "      <td>0</td>\n",
       "      <td>0</td>\n",
       "      <td>0</td>\n",
       "      <td>0</td>\n",
       "      <td>...</td>\n",
       "      <td>495076</td>\n",
       "      <td>380368</td>\n",
       "      <td>440134</td>\n",
       "      <td>269556</td>\n",
       "      <td>1315022</td>\n",
       "      <td>153680</td>\n",
       "      <td>516</td>\n",
       "      <td>0</td>\n",
       "      <td>0</td>\n",
       "      <td>0</td>\n",
       "    </tr>\n",
       "    <tr>\n",
       "      <th>3</th>\n",
       "      <td>neg</td>\n",
       "      <td>59816</td>\n",
       "      <td>na</td>\n",
       "      <td>1010</td>\n",
       "      <td>936</td>\n",
       "      <td>0</td>\n",
       "      <td>0</td>\n",
       "      <td>0</td>\n",
       "      <td>0</td>\n",
       "      <td>0</td>\n",
       "      <td>...</td>\n",
       "      <td>540820</td>\n",
       "      <td>243270</td>\n",
       "      <td>483302</td>\n",
       "      <td>485332</td>\n",
       "      <td>431376</td>\n",
       "      <td>210074</td>\n",
       "      <td>281662</td>\n",
       "      <td>3232</td>\n",
       "      <td>0</td>\n",
       "      <td>0</td>\n",
       "    </tr>\n",
       "    <tr>\n",
       "      <th>4</th>\n",
       "      <td>neg</td>\n",
       "      <td>1814</td>\n",
       "      <td>na</td>\n",
       "      <td>156</td>\n",
       "      <td>140</td>\n",
       "      <td>0</td>\n",
       "      <td>0</td>\n",
       "      <td>0</td>\n",
       "      <td>0</td>\n",
       "      <td>0</td>\n",
       "      <td>...</td>\n",
       "      <td>7646</td>\n",
       "      <td>4144</td>\n",
       "      <td>18466</td>\n",
       "      <td>49782</td>\n",
       "      <td>3176</td>\n",
       "      <td>482</td>\n",
       "      <td>76</td>\n",
       "      <td>0</td>\n",
       "      <td>0</td>\n",
       "      <td>0</td>\n",
       "    </tr>\n",
       "  </tbody>\n",
       "</table>\n",
       "<p>5 rows × 171 columns</p>\n",
       "</div>"
      ],
      "text/plain": [
       "  class  aa_000 ab_000 ac_000 ad_000 ae_000 af_000 ag_000 ag_001 ag_002  ...  \\\n",
       "0   neg      60      0     20     12      0      0      0      0      0  ...   \n",
       "1   neg      82      0     68     40      0      0      0      0      0  ...   \n",
       "2   neg   66002      2    212    112      0      0      0      0      0  ...   \n",
       "3   neg   59816     na   1010    936      0      0      0      0      0  ...   \n",
       "4   neg    1814     na    156    140      0      0      0      0      0  ...   \n",
       "\n",
       "   ee_002  ee_003  ee_004  ee_005   ee_006  ee_007  ee_008 ee_009 ef_000  \\\n",
       "0    1098     138     412     654       78      88       0      0      0   \n",
       "1    1068     276    1620     116       86     462       0      0      0   \n",
       "2  495076  380368  440134  269556  1315022  153680     516      0      0   \n",
       "3  540820  243270  483302  485332   431376  210074  281662   3232      0   \n",
       "4    7646    4144   18466   49782     3176     482      76      0      0   \n",
       "\n",
       "  eg_000  \n",
       "0      0  \n",
       "1      0  \n",
       "2      0  \n",
       "3      0  \n",
       "4      0  \n",
       "\n",
       "[5 rows x 171 columns]"
      ]
     },
     "execution_count": 5,
     "metadata": {},
     "output_type": "execute_result"
    }
   ],
   "source": [
    "# test data\n",
    "df1 = pd.read_csv('aps_failure_test_set(1).csv')\n",
    "print(df1.shape)\n",
    "df1.head()"
   ]
  },
  {
   "cell_type": "code",
   "execution_count": null,
   "metadata": {},
   "outputs": [],
   "source": []
  },
  {
   "cell_type": "code",
   "execution_count": 47,
   "metadata": {},
   "outputs": [],
   "source": [
    "filename = 'C:/Users/kiran/Downloads/finalized_model.sav'"
   ]
  },
  {
   "cell_type": "code",
   "execution_count": null,
   "metadata": {},
   "outputs": [],
   "source": [
    "pickle.dump(knn, open(filename, 'wb'))"
   ]
  },
  {
   "cell_type": "code",
   "execution_count": 48,
   "metadata": {},
   "outputs": [],
   "source": [
    "loaded_model = pickle.load(open(filename, 'rb'))"
   ]
  },
  {
   "cell_type": "code",
   "execution_count": 49,
   "metadata": {},
   "outputs": [
    {
     "name": "stdout",
     "output_type": "stream",
     "text": [
      "(16000, 171)\n"
     ]
    },
    {
     "data": {
      "text/html": [
       "<div>\n",
       "<style scoped>\n",
       "    .dataframe tbody tr th:only-of-type {\n",
       "        vertical-align: middle;\n",
       "    }\n",
       "\n",
       "    .dataframe tbody tr th {\n",
       "        vertical-align: top;\n",
       "    }\n",
       "\n",
       "    .dataframe thead th {\n",
       "        text-align: right;\n",
       "    }\n",
       "</style>\n",
       "<table border=\"1\" class=\"dataframe\">\n",
       "  <thead>\n",
       "    <tr style=\"text-align: right;\">\n",
       "      <th></th>\n",
       "      <th>class</th>\n",
       "      <th>aa_000</th>\n",
       "      <th>ab_000</th>\n",
       "      <th>ac_000</th>\n",
       "      <th>ad_000</th>\n",
       "      <th>ae_000</th>\n",
       "      <th>af_000</th>\n",
       "      <th>ag_000</th>\n",
       "      <th>ag_001</th>\n",
       "      <th>ag_002</th>\n",
       "      <th>...</th>\n",
       "      <th>ee_002</th>\n",
       "      <th>ee_003</th>\n",
       "      <th>ee_004</th>\n",
       "      <th>ee_005</th>\n",
       "      <th>ee_006</th>\n",
       "      <th>ee_007</th>\n",
       "      <th>ee_008</th>\n",
       "      <th>ee_009</th>\n",
       "      <th>ef_000</th>\n",
       "      <th>eg_000</th>\n",
       "    </tr>\n",
       "  </thead>\n",
       "  <tbody>\n",
       "    <tr>\n",
       "      <th>0</th>\n",
       "      <td>neg</td>\n",
       "      <td>60</td>\n",
       "      <td>0</td>\n",
       "      <td>20</td>\n",
       "      <td>12</td>\n",
       "      <td>0</td>\n",
       "      <td>0</td>\n",
       "      <td>0</td>\n",
       "      <td>0</td>\n",
       "      <td>0</td>\n",
       "      <td>...</td>\n",
       "      <td>1098</td>\n",
       "      <td>138</td>\n",
       "      <td>412</td>\n",
       "      <td>654</td>\n",
       "      <td>78</td>\n",
       "      <td>88</td>\n",
       "      <td>0</td>\n",
       "      <td>0</td>\n",
       "      <td>0</td>\n",
       "      <td>0</td>\n",
       "    </tr>\n",
       "    <tr>\n",
       "      <th>1</th>\n",
       "      <td>neg</td>\n",
       "      <td>82</td>\n",
       "      <td>0</td>\n",
       "      <td>68</td>\n",
       "      <td>40</td>\n",
       "      <td>0</td>\n",
       "      <td>0</td>\n",
       "      <td>0</td>\n",
       "      <td>0</td>\n",
       "      <td>0</td>\n",
       "      <td>...</td>\n",
       "      <td>1068</td>\n",
       "      <td>276</td>\n",
       "      <td>1620</td>\n",
       "      <td>116</td>\n",
       "      <td>86</td>\n",
       "      <td>462</td>\n",
       "      <td>0</td>\n",
       "      <td>0</td>\n",
       "      <td>0</td>\n",
       "      <td>0</td>\n",
       "    </tr>\n",
       "    <tr>\n",
       "      <th>2</th>\n",
       "      <td>neg</td>\n",
       "      <td>66002</td>\n",
       "      <td>2</td>\n",
       "      <td>212</td>\n",
       "      <td>112</td>\n",
       "      <td>0</td>\n",
       "      <td>0</td>\n",
       "      <td>0</td>\n",
       "      <td>0</td>\n",
       "      <td>0</td>\n",
       "      <td>...</td>\n",
       "      <td>495076</td>\n",
       "      <td>380368</td>\n",
       "      <td>440134</td>\n",
       "      <td>269556</td>\n",
       "      <td>1315022</td>\n",
       "      <td>153680</td>\n",
       "      <td>516</td>\n",
       "      <td>0</td>\n",
       "      <td>0</td>\n",
       "      <td>0</td>\n",
       "    </tr>\n",
       "    <tr>\n",
       "      <th>3</th>\n",
       "      <td>neg</td>\n",
       "      <td>59816</td>\n",
       "      <td>na</td>\n",
       "      <td>1010</td>\n",
       "      <td>936</td>\n",
       "      <td>0</td>\n",
       "      <td>0</td>\n",
       "      <td>0</td>\n",
       "      <td>0</td>\n",
       "      <td>0</td>\n",
       "      <td>...</td>\n",
       "      <td>540820</td>\n",
       "      <td>243270</td>\n",
       "      <td>483302</td>\n",
       "      <td>485332</td>\n",
       "      <td>431376</td>\n",
       "      <td>210074</td>\n",
       "      <td>281662</td>\n",
       "      <td>3232</td>\n",
       "      <td>0</td>\n",
       "      <td>0</td>\n",
       "    </tr>\n",
       "    <tr>\n",
       "      <th>4</th>\n",
       "      <td>neg</td>\n",
       "      <td>1814</td>\n",
       "      <td>na</td>\n",
       "      <td>156</td>\n",
       "      <td>140</td>\n",
       "      <td>0</td>\n",
       "      <td>0</td>\n",
       "      <td>0</td>\n",
       "      <td>0</td>\n",
       "      <td>0</td>\n",
       "      <td>...</td>\n",
       "      <td>7646</td>\n",
       "      <td>4144</td>\n",
       "      <td>18466</td>\n",
       "      <td>49782</td>\n",
       "      <td>3176</td>\n",
       "      <td>482</td>\n",
       "      <td>76</td>\n",
       "      <td>0</td>\n",
       "      <td>0</td>\n",
       "      <td>0</td>\n",
       "    </tr>\n",
       "  </tbody>\n",
       "</table>\n",
       "<p>5 rows × 171 columns</p>\n",
       "</div>"
      ],
      "text/plain": [
       "  class  aa_000 ab_000 ac_000 ad_000 ae_000 af_000 ag_000 ag_001 ag_002  ...  \\\n",
       "0   neg      60      0     20     12      0      0      0      0      0  ...   \n",
       "1   neg      82      0     68     40      0      0      0      0      0  ...   \n",
       "2   neg   66002      2    212    112      0      0      0      0      0  ...   \n",
       "3   neg   59816     na   1010    936      0      0      0      0      0  ...   \n",
       "4   neg    1814     na    156    140      0      0      0      0      0  ...   \n",
       "\n",
       "   ee_002  ee_003  ee_004  ee_005   ee_006  ee_007  ee_008 ee_009 ef_000  \\\n",
       "0    1098     138     412     654       78      88       0      0      0   \n",
       "1    1068     276    1620     116       86     462       0      0      0   \n",
       "2  495076  380368  440134  269556  1315022  153680     516      0      0   \n",
       "3  540820  243270  483302  485332   431376  210074  281662   3232      0   \n",
       "4    7646    4144   18466   49782     3176     482      76      0      0   \n",
       "\n",
       "  eg_000  \n",
       "0      0  \n",
       "1      0  \n",
       "2      0  \n",
       "3      0  \n",
       "4      0  \n",
       "\n",
       "[5 rows x 171 columns]"
      ]
     },
     "execution_count": 49,
     "metadata": {},
     "output_type": "execute_result"
    }
   ],
   "source": [
    "# test data\n",
    "df1 = pd.read_csv('aps_failure_test_set(1).csv')\n",
    "print(df1.shape)\n",
    "df1.head()"
   ]
  },
  {
   "cell_type": "code",
   "execution_count": 8,
   "metadata": {},
   "outputs": [
    {
     "name": "stdout",
     "output_type": "stream",
     "text": [
      "[0 1]\n"
     ]
    }
   ],
   "source": [
    "df1['class'] = get_correct_label(df1['class'])\n",
    "print(df1['class'].unique())"
   ]
  },
  {
   "cell_type": "code",
   "execution_count": 9,
   "metadata": {},
   "outputs": [],
   "source": [
    "df1.replace('na',np.NaN, inplace=True)"
   ]
  },
  {
   "cell_type": "code",
   "execution_count": 10,
   "metadata": {},
   "outputs": [],
   "source": [
    "df1.drop(['cd_000'],axis=1,inplace=True)"
   ]
  },
  {
   "cell_type": "code",
   "execution_count": 11,
   "metadata": {},
   "outputs": [
    {
     "data": {
      "text/html": [
       "<div>\n",
       "<style scoped>\n",
       "    .dataframe tbody tr th:only-of-type {\n",
       "        vertical-align: middle;\n",
       "    }\n",
       "\n",
       "    .dataframe tbody tr th {\n",
       "        vertical-align: top;\n",
       "    }\n",
       "\n",
       "    .dataframe thead th {\n",
       "        text-align: right;\n",
       "    }\n",
       "</style>\n",
       "<table border=\"1\" class=\"dataframe\">\n",
       "  <thead>\n",
       "    <tr style=\"text-align: right;\">\n",
       "      <th></th>\n",
       "      <th>class</th>\n",
       "      <th>aa_000</th>\n",
       "      <th>ab_000</th>\n",
       "      <th>ac_000</th>\n",
       "      <th>ad_000</th>\n",
       "      <th>ae_000</th>\n",
       "      <th>af_000</th>\n",
       "      <th>ag_000</th>\n",
       "      <th>ag_001</th>\n",
       "      <th>ag_002</th>\n",
       "      <th>...</th>\n",
       "      <th>ee_002</th>\n",
       "      <th>ee_003</th>\n",
       "      <th>ee_004</th>\n",
       "      <th>ee_005</th>\n",
       "      <th>ee_006</th>\n",
       "      <th>ee_007</th>\n",
       "      <th>ee_008</th>\n",
       "      <th>ee_009</th>\n",
       "      <th>ef_000</th>\n",
       "      <th>eg_000</th>\n",
       "    </tr>\n",
       "  </thead>\n",
       "  <tbody>\n",
       "    <tr>\n",
       "      <th>0</th>\n",
       "      <td>0</td>\n",
       "      <td>60</td>\n",
       "      <td>0</td>\n",
       "      <td>20</td>\n",
       "      <td>12</td>\n",
       "      <td>0</td>\n",
       "      <td>0</td>\n",
       "      <td>0</td>\n",
       "      <td>0</td>\n",
       "      <td>0</td>\n",
       "      <td>...</td>\n",
       "      <td>1098</td>\n",
       "      <td>138</td>\n",
       "      <td>412</td>\n",
       "      <td>654</td>\n",
       "      <td>78</td>\n",
       "      <td>88</td>\n",
       "      <td>0</td>\n",
       "      <td>0</td>\n",
       "      <td>0</td>\n",
       "      <td>0</td>\n",
       "    </tr>\n",
       "    <tr>\n",
       "      <th>1</th>\n",
       "      <td>0</td>\n",
       "      <td>82</td>\n",
       "      <td>0</td>\n",
       "      <td>68</td>\n",
       "      <td>40</td>\n",
       "      <td>0</td>\n",
       "      <td>0</td>\n",
       "      <td>0</td>\n",
       "      <td>0</td>\n",
       "      <td>0</td>\n",
       "      <td>...</td>\n",
       "      <td>1068</td>\n",
       "      <td>276</td>\n",
       "      <td>1620</td>\n",
       "      <td>116</td>\n",
       "      <td>86</td>\n",
       "      <td>462</td>\n",
       "      <td>0</td>\n",
       "      <td>0</td>\n",
       "      <td>0</td>\n",
       "      <td>0</td>\n",
       "    </tr>\n",
       "    <tr>\n",
       "      <th>2</th>\n",
       "      <td>0</td>\n",
       "      <td>66002</td>\n",
       "      <td>2</td>\n",
       "      <td>212</td>\n",
       "      <td>112</td>\n",
       "      <td>0</td>\n",
       "      <td>0</td>\n",
       "      <td>0</td>\n",
       "      <td>0</td>\n",
       "      <td>0</td>\n",
       "      <td>...</td>\n",
       "      <td>495076</td>\n",
       "      <td>380368</td>\n",
       "      <td>440134</td>\n",
       "      <td>269556</td>\n",
       "      <td>1315022</td>\n",
       "      <td>153680</td>\n",
       "      <td>516</td>\n",
       "      <td>0</td>\n",
       "      <td>0</td>\n",
       "      <td>0</td>\n",
       "    </tr>\n",
       "    <tr>\n",
       "      <th>3</th>\n",
       "      <td>0</td>\n",
       "      <td>59816</td>\n",
       "      <td>NaN</td>\n",
       "      <td>1010</td>\n",
       "      <td>936</td>\n",
       "      <td>0</td>\n",
       "      <td>0</td>\n",
       "      <td>0</td>\n",
       "      <td>0</td>\n",
       "      <td>0</td>\n",
       "      <td>...</td>\n",
       "      <td>540820</td>\n",
       "      <td>243270</td>\n",
       "      <td>483302</td>\n",
       "      <td>485332</td>\n",
       "      <td>431376</td>\n",
       "      <td>210074</td>\n",
       "      <td>281662</td>\n",
       "      <td>3232</td>\n",
       "      <td>0</td>\n",
       "      <td>0</td>\n",
       "    </tr>\n",
       "    <tr>\n",
       "      <th>4</th>\n",
       "      <td>0</td>\n",
       "      <td>1814</td>\n",
       "      <td>NaN</td>\n",
       "      <td>156</td>\n",
       "      <td>140</td>\n",
       "      <td>0</td>\n",
       "      <td>0</td>\n",
       "      <td>0</td>\n",
       "      <td>0</td>\n",
       "      <td>0</td>\n",
       "      <td>...</td>\n",
       "      <td>7646</td>\n",
       "      <td>4144</td>\n",
       "      <td>18466</td>\n",
       "      <td>49782</td>\n",
       "      <td>3176</td>\n",
       "      <td>482</td>\n",
       "      <td>76</td>\n",
       "      <td>0</td>\n",
       "      <td>0</td>\n",
       "      <td>0</td>\n",
       "    </tr>\n",
       "  </tbody>\n",
       "</table>\n",
       "<p>5 rows × 170 columns</p>\n",
       "</div>"
      ],
      "text/plain": [
       "   class  aa_000 ab_000 ac_000 ad_000 ae_000 af_000 ag_000 ag_001 ag_002  ...  \\\n",
       "0      0      60      0     20     12      0      0      0      0      0  ...   \n",
       "1      0      82      0     68     40      0      0      0      0      0  ...   \n",
       "2      0   66002      2    212    112      0      0      0      0      0  ...   \n",
       "3      0   59816    NaN   1010    936      0      0      0      0      0  ...   \n",
       "4      0    1814    NaN    156    140      0      0      0      0      0  ...   \n",
       "\n",
       "   ee_002  ee_003  ee_004  ee_005   ee_006  ee_007  ee_008 ee_009 ef_000  \\\n",
       "0    1098     138     412     654       78      88       0      0      0   \n",
       "1    1068     276    1620     116       86     462       0      0      0   \n",
       "2  495076  380368  440134  269556  1315022  153680     516      0      0   \n",
       "3  540820  243270  483302  485332   431376  210074  281662   3232      0   \n",
       "4    7646    4144   18466   49782     3176     482      76      0      0   \n",
       "\n",
       "  eg_000  \n",
       "0      0  \n",
       "1      0  \n",
       "2      0  \n",
       "3      0  \n",
       "4      0  \n",
       "\n",
       "[5 rows x 170 columns]"
      ]
     },
     "execution_count": 11,
     "metadata": {},
     "output_type": "execute_result"
    }
   ],
   "source": [
    "df1.head()"
   ]
  },
  {
   "cell_type": "code",
   "execution_count": 12,
   "metadata": {},
   "outputs": [],
   "source": [
    "df1 = df1.apply(pd.to_numeric)"
   ]
  },
  {
   "cell_type": "code",
   "execution_count": 13,
   "metadata": {},
   "outputs": [],
   "source": [
    "# relacing null values with mean\n",
    "for col in df1.columns:\n",
    "    df1[col] = df1[col].replace(np.NaN,df1[col].mean())"
   ]
  },
  {
   "cell_type": "code",
   "execution_count": 14,
   "metadata": {},
   "outputs": [],
   "source": [
    "X = df1.drop(['class'],axis=1)\n",
    "Y = df1['class']"
   ]
  },
  {
   "cell_type": "code",
   "execution_count": 16,
   "metadata": {},
   "outputs": [],
   "source": [
    "unusedcol = ['cd_000', 'ab_000', 'bm_000', 'bn_000', 'bo_000', 'bp_000', 'bq_000', 'br_000', 'cr_000']"
   ]
  },
  {
   "cell_type": "code",
   "execution_count": 18,
   "metadata": {},
   "outputs": [],
   "source": [
    "X.drop(['ab_000', 'bm_000', 'bn_000', 'bo_000', 'bp_000', 'bq_000', 'br_000', 'cr_000'],axis=1,inplace=True)"
   ]
  },
  {
   "cell_type": "code",
   "execution_count": 21,
   "metadata": {},
   "outputs": [],
   "source": [
    "X = scaler.fit_transform(X)"
   ]
  },
  {
   "cell_type": "code",
   "execution_count": 22,
   "metadata": {},
   "outputs": [
    {
     "data": {
      "text/plain": [
       "(16000, 161)"
      ]
     },
     "execution_count": 22,
     "metadata": {},
     "output_type": "execute_result"
    }
   ],
   "source": [
    "X.shape"
   ]
  },
  {
   "cell_type": "code",
   "execution_count": 23,
   "metadata": {},
   "outputs": [],
   "source": [
    "pca = PCA(n_components=104)"
   ]
  },
  {
   "cell_type": "code",
   "execution_count": 24,
   "metadata": {},
   "outputs": [],
   "source": [
    "X = pca.fit_transform(X)"
   ]
  },
  {
   "cell_type": "code",
   "execution_count": 25,
   "metadata": {},
   "outputs": [
    {
     "data": {
      "text/plain": [
       "(16000, 104)"
      ]
     },
     "execution_count": 25,
     "metadata": {},
     "output_type": "execute_result"
    }
   ],
   "source": [
    "X.shape"
   ]
  },
  {
   "cell_type": "code",
   "execution_count": 26,
   "metadata": {},
   "outputs": [],
   "source": [
    "y_pred2 = loaded_model.predict(X)"
   ]
  },
  {
   "cell_type": "code",
   "execution_count": 27,
   "metadata": {},
   "outputs": [
    {
     "data": {
      "text/plain": [
       "0.9765"
      ]
     },
     "execution_count": 27,
     "metadata": {},
     "output_type": "execute_result"
    }
   ],
   "source": [
    "from sklearn.metrics  import roc_auc_score,accuracy_score\n",
    "accuracy_score(Y,y_pred2)"
   ]
  },
  {
   "cell_type": "code",
   "execution_count": null,
   "metadata": {},
   "outputs": [],
   "source": []
  }
 ],
 "metadata": {
  "kernelspec": {
   "display_name": "Python 3",
   "language": "python",
   "name": "python3"
  },
  "language_info": {
   "codemirror_mode": {
    "name": "ipython",
    "version": 3
   },
   "file_extension": ".py",
   "mimetype": "text/x-python",
   "name": "python",
   "nbconvert_exporter": "python",
   "pygments_lexer": "ipython3",
   "version": "3.8.3"
  }
 },
 "nbformat": 4,
 "nbformat_minor": 4
}

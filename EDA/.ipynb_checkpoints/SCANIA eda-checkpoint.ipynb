{
 "cells": [
  {
   "cell_type": "code",
   "execution_count": 1,
   "metadata": {},
   "outputs": [],
   "source": [
    "import pandas as pd\n",
    "import numpy as np\n",
    "\n",
    "import warnings\n",
    "warnings.filterwarnings(\"ignore\")"
   ]
  },
  {
   "cell_type": "code",
   "execution_count": 2,
   "metadata": {},
   "outputs": [
    {
     "name": "stdout",
     "output_type": "stream",
     "text": [
      "(60000, 171)\n"
     ]
    },
    {
     "data": {
      "text/html": [
       "<div>\n",
       "<style scoped>\n",
       "    .dataframe tbody tr th:only-of-type {\n",
       "        vertical-align: middle;\n",
       "    }\n",
       "\n",
       "    .dataframe tbody tr th {\n",
       "        vertical-align: top;\n",
       "    }\n",
       "\n",
       "    .dataframe thead th {\n",
       "        text-align: right;\n",
       "    }\n",
       "</style>\n",
       "<table border=\"1\" class=\"dataframe\">\n",
       "  <thead>\n",
       "    <tr style=\"text-align: right;\">\n",
       "      <th></th>\n",
       "      <th>class</th>\n",
       "      <th>aa_000</th>\n",
       "      <th>ab_000</th>\n",
       "      <th>ac_000</th>\n",
       "      <th>ad_000</th>\n",
       "      <th>ae_000</th>\n",
       "      <th>af_000</th>\n",
       "      <th>ag_000</th>\n",
       "      <th>ag_001</th>\n",
       "      <th>ag_002</th>\n",
       "      <th>...</th>\n",
       "      <th>ee_002</th>\n",
       "      <th>ee_003</th>\n",
       "      <th>ee_004</th>\n",
       "      <th>ee_005</th>\n",
       "      <th>ee_006</th>\n",
       "      <th>ee_007</th>\n",
       "      <th>ee_008</th>\n",
       "      <th>ee_009</th>\n",
       "      <th>ef_000</th>\n",
       "      <th>eg_000</th>\n",
       "    </tr>\n",
       "  </thead>\n",
       "  <tbody>\n",
       "    <tr>\n",
       "      <th>0</th>\n",
       "      <td>neg</td>\n",
       "      <td>76698</td>\n",
       "      <td>na</td>\n",
       "      <td>2130706438</td>\n",
       "      <td>280</td>\n",
       "      <td>0</td>\n",
       "      <td>0</td>\n",
       "      <td>0</td>\n",
       "      <td>0</td>\n",
       "      <td>0</td>\n",
       "      <td>...</td>\n",
       "      <td>1240520</td>\n",
       "      <td>493384</td>\n",
       "      <td>721044</td>\n",
       "      <td>469792</td>\n",
       "      <td>339156</td>\n",
       "      <td>157956</td>\n",
       "      <td>73224</td>\n",
       "      <td>0</td>\n",
       "      <td>0</td>\n",
       "      <td>0</td>\n",
       "    </tr>\n",
       "    <tr>\n",
       "      <th>1</th>\n",
       "      <td>neg</td>\n",
       "      <td>33058</td>\n",
       "      <td>na</td>\n",
       "      <td>0</td>\n",
       "      <td>na</td>\n",
       "      <td>0</td>\n",
       "      <td>0</td>\n",
       "      <td>0</td>\n",
       "      <td>0</td>\n",
       "      <td>0</td>\n",
       "      <td>...</td>\n",
       "      <td>421400</td>\n",
       "      <td>178064</td>\n",
       "      <td>293306</td>\n",
       "      <td>245416</td>\n",
       "      <td>133654</td>\n",
       "      <td>81140</td>\n",
       "      <td>97576</td>\n",
       "      <td>1500</td>\n",
       "      <td>0</td>\n",
       "      <td>0</td>\n",
       "    </tr>\n",
       "    <tr>\n",
       "      <th>2</th>\n",
       "      <td>neg</td>\n",
       "      <td>41040</td>\n",
       "      <td>na</td>\n",
       "      <td>228</td>\n",
       "      <td>100</td>\n",
       "      <td>0</td>\n",
       "      <td>0</td>\n",
       "      <td>0</td>\n",
       "      <td>0</td>\n",
       "      <td>0</td>\n",
       "      <td>...</td>\n",
       "      <td>277378</td>\n",
       "      <td>159812</td>\n",
       "      <td>423992</td>\n",
       "      <td>409564</td>\n",
       "      <td>320746</td>\n",
       "      <td>158022</td>\n",
       "      <td>95128</td>\n",
       "      <td>514</td>\n",
       "      <td>0</td>\n",
       "      <td>0</td>\n",
       "    </tr>\n",
       "    <tr>\n",
       "      <th>3</th>\n",
       "      <td>neg</td>\n",
       "      <td>12</td>\n",
       "      <td>0</td>\n",
       "      <td>70</td>\n",
       "      <td>66</td>\n",
       "      <td>0</td>\n",
       "      <td>10</td>\n",
       "      <td>0</td>\n",
       "      <td>0</td>\n",
       "      <td>0</td>\n",
       "      <td>...</td>\n",
       "      <td>240</td>\n",
       "      <td>46</td>\n",
       "      <td>58</td>\n",
       "      <td>44</td>\n",
       "      <td>10</td>\n",
       "      <td>0</td>\n",
       "      <td>0</td>\n",
       "      <td>0</td>\n",
       "      <td>4</td>\n",
       "      <td>32</td>\n",
       "    </tr>\n",
       "    <tr>\n",
       "      <th>4</th>\n",
       "      <td>neg</td>\n",
       "      <td>60874</td>\n",
       "      <td>na</td>\n",
       "      <td>1368</td>\n",
       "      <td>458</td>\n",
       "      <td>0</td>\n",
       "      <td>0</td>\n",
       "      <td>0</td>\n",
       "      <td>0</td>\n",
       "      <td>0</td>\n",
       "      <td>...</td>\n",
       "      <td>622012</td>\n",
       "      <td>229790</td>\n",
       "      <td>405298</td>\n",
       "      <td>347188</td>\n",
       "      <td>286954</td>\n",
       "      <td>311560</td>\n",
       "      <td>433954</td>\n",
       "      <td>1218</td>\n",
       "      <td>0</td>\n",
       "      <td>0</td>\n",
       "    </tr>\n",
       "  </tbody>\n",
       "</table>\n",
       "<p>5 rows × 171 columns</p>\n",
       "</div>"
      ],
      "text/plain": [
       "  class  aa_000 ab_000      ac_000 ad_000 ae_000 af_000 ag_000 ag_001 ag_002  \\\n",
       "0   neg   76698     na  2130706438    280      0      0      0      0      0   \n",
       "1   neg   33058     na           0     na      0      0      0      0      0   \n",
       "2   neg   41040     na         228    100      0      0      0      0      0   \n",
       "3   neg      12      0          70     66      0     10      0      0      0   \n",
       "4   neg   60874     na        1368    458      0      0      0      0      0   \n",
       "\n",
       "   ...   ee_002  ee_003  ee_004  ee_005  ee_006  ee_007  ee_008 ee_009 ef_000  \\\n",
       "0  ...  1240520  493384  721044  469792  339156  157956   73224      0      0   \n",
       "1  ...   421400  178064  293306  245416  133654   81140   97576   1500      0   \n",
       "2  ...   277378  159812  423992  409564  320746  158022   95128    514      0   \n",
       "3  ...      240      46      58      44      10       0       0      0      4   \n",
       "4  ...   622012  229790  405298  347188  286954  311560  433954   1218      0   \n",
       "\n",
       "  eg_000  \n",
       "0      0  \n",
       "1      0  \n",
       "2      0  \n",
       "3     32  \n",
       "4      0  \n",
       "\n",
       "[5 rows x 171 columns]"
      ]
     },
     "execution_count": 2,
     "metadata": {},
     "output_type": "execute_result"
    }
   ],
   "source": [
    "df = pd.read_csv(r'C:\\Users\\kiran\\Downloads\\aps_failure_training_set.csv')\n",
    "print(df.shape)\n",
    "df.head()"
   ]
  },
  {
   "cell_type": "code",
   "execution_count": 4,
   "metadata": {},
   "outputs": [
    {
     "name": "stdout",
     "output_type": "stream",
     "text": [
      "Total number of Train datapoints:  60000\n",
      "Total number of features:  171\n",
      "The column/feature names given are:\n",
      "  ['class', 'aa_000', 'ab_000', 'ac_000', 'ad_000', 'ae_000', 'af_000', 'ag_000', 'ag_001', 'ag_002', 'ag_003', 'ag_004', 'ag_005', 'ag_006', 'ag_007', 'ag_008', 'ag_009', 'ah_000', 'ai_000', 'aj_000', 'ak_000', 'al_000', 'am_0', 'an_000', 'ao_000', 'ap_000', 'aq_000', 'ar_000', 'as_000', 'at_000', 'au_000', 'av_000', 'ax_000', 'ay_000', 'ay_001', 'ay_002', 'ay_003', 'ay_004', 'ay_005', 'ay_006', 'ay_007', 'ay_008', 'ay_009', 'az_000', 'az_001', 'az_002', 'az_003', 'az_004', 'az_005', 'az_006', 'az_007', 'az_008', 'az_009', 'ba_000', 'ba_001', 'ba_002', 'ba_003', 'ba_004', 'ba_005', 'ba_006', 'ba_007', 'ba_008', 'ba_009', 'bb_000', 'bc_000', 'bd_000', 'be_000', 'bf_000', 'bg_000', 'bh_000', 'bi_000', 'bj_000', 'bk_000', 'bl_000', 'bm_000', 'bn_000', 'bo_000', 'bp_000', 'bq_000', 'br_000', 'bs_000', 'bt_000', 'bu_000', 'bv_000', 'bx_000', 'by_000', 'bz_000', 'ca_000', 'cb_000', 'cc_000', 'cd_000', 'ce_000', 'cf_000', 'cg_000', 'ch_000', 'ci_000', 'cj_000', 'ck_000', 'cl_000', 'cm_000', 'cn_000', 'cn_001', 'cn_002', 'cn_003', 'cn_004', 'cn_005', 'cn_006', 'cn_007', 'cn_008', 'cn_009', 'co_000', 'cp_000', 'cq_000', 'cr_000', 'cs_000', 'cs_001', 'cs_002', 'cs_003', 'cs_004', 'cs_005', 'cs_006', 'cs_007', 'cs_008', 'cs_009', 'ct_000', 'cu_000', 'cv_000', 'cx_000', 'cy_000', 'cz_000', 'da_000', 'db_000', 'dc_000', 'dd_000', 'de_000', 'df_000', 'dg_000', 'dh_000', 'di_000', 'dj_000', 'dk_000', 'dl_000', 'dm_000', 'dn_000', 'do_000', 'dp_000', 'dq_000', 'dr_000', 'ds_000', 'dt_000', 'du_000', 'dv_000', 'dx_000', 'dy_000', 'dz_000', 'ea_000', 'eb_000', 'ec_00', 'ed_000', 'ee_000', 'ee_001', 'ee_002', 'ee_003', 'ee_004', 'ee_005', 'ee_006', 'ee_007', 'ee_008', 'ee_009', 'ef_000', 'eg_000']\n"
     ]
    }
   ],
   "source": [
    "print(\"Total number of Train datapoints: \",df.shape[0])\n",
    "print(\"Total number of features: \",df.shape[1])\n",
    "print(\"The column/feature names given are:\\n \",list(df.columns))"
   ]
  },
  {
   "cell_type": "markdown",
   "metadata": {},
   "source": [
    "# Basic Pre-Processing and Analysis\n",
    "\n",
    "Class label Preprocessing"
   ]
  },
  {
   "cell_type": "code",
   "execution_count": 6,
   "metadata": {},
   "outputs": [],
   "source": [
    "def get_correct_label(y):\n",
    "    return y.replace(['neg','pos'],[0,1])\n"
   ]
  },
  {
   "cell_type": "code",
   "execution_count": 6,
   "metadata": {},
   "outputs": [
    {
     "name": "stdout",
     "output_type": "stream",
     "text": [
      "['neg' 'pos']\n",
      "[0 1]\n"
     ]
    }
   ],
   "source": [
    "print(df['class'].unique())\n",
    "df['class'] = get_correct_label(df['class'])\n",
    "print(df['class'].unique())"
   ]
  },
  {
   "cell_type": "markdown",
   "metadata": {},
   "source": [
    "# Class Distribution\n",
    "\n",
    "Here, we will look into the distribution of our dataset. In ideal cases, we prefer a balanced dataset (equal number of positive and negative datapoints)\n"
   ]
  },
  {
   "cell_type": "code",
   "execution_count": 7,
   "metadata": {},
   "outputs": [],
   "source": [
    "import matplotlib.pyplot as plt\n",
    "import seaborn as sns"
   ]
  },
  {
   "cell_type": "code",
   "execution_count": 8,
   "metadata": {},
   "outputs": [
    {
     "data": {
      "text/plain": [
       "Text(0, 0.5, 'Count')"
      ]
     },
     "execution_count": 8,
     "metadata": {},
     "output_type": "execute_result"
    },
    {
     "data": {
      "image/png": "[encoded data removed]",
      "text/plain": [
       "<Figure size 432x288 with 1 Axes>"
      ]
     },
     "metadata": {
      "needs_background": "light"
     },
     "output_type": "display_data"
    }
   ],
   "source": [
    "# Plotting the distribution of class label\n",
    "sns.barplot(df['class'].unique(),df['class'].value_counts())\n",
    "plt.title('Class Label Distribution')\n",
    "plt.xlabel('Class Label')\n",
    "plt.ylabel('Count')"
   ]
  },
  {
   "cell_type": "code",
   "execution_count": 9,
   "metadata": {},
   "outputs": [
    {
     "name": "stdout",
     "output_type": "stream",
     "text": [
      "The number of positive class points is:  1000\n",
      "The number of negative class points is:  59000\n"
     ]
    }
   ],
   "source": [
    "print('The number of positive class points is: ',df['class'].value_counts()[1])\n",
    "print('The number of negative class points is: ',df['class'].value_counts()[0])"
   ]
  },
  {
   "cell_type": "code",
   "execution_count": 10,
   "metadata": {},
   "outputs": [],
   "source": [
    "df.replace('na',np.NaN, inplace=True)"
   ]
  },
  {
   "cell_type": "code",
   "execution_count": 11,
   "metadata": {},
   "outputs": [],
   "source": [
    "missing_values=df.isna().sum()\n",
    "dataframe_with_null = pd.DataFrame()\n",
    "dataframe_with_null['columns'] = df.columns\n",
    "dataframe_with_null['missing values count'] = np.asarray(missing_values)"
   ]
  },
  {
   "cell_type": "code",
   "execution_count": 12,
   "metadata": {},
   "outputs": [
    {
     "data": {
      "text/html": [
       "<div>\n",
       "<style scoped>\n",
       "    .dataframe tbody tr th:only-of-type {\n",
       "        vertical-align: middle;\n",
       "    }\n",
       "\n",
       "    .dataframe tbody tr th {\n",
       "        vertical-align: top;\n",
       "    }\n",
       "\n",
       "    .dataframe thead th {\n",
       "        text-align: right;\n",
       "    }\n",
       "</style>\n",
       "<table border=\"1\" class=\"dataframe\">\n",
       "  <thead>\n",
       "    <tr style=\"text-align: right;\">\n",
       "      <th></th>\n",
       "      <th>columns</th>\n",
       "      <th>missing values count</th>\n",
       "    </tr>\n",
       "  </thead>\n",
       "  <tbody>\n",
       "    <tr>\n",
       "      <th>0</th>\n",
       "      <td>class</td>\n",
       "      <td>0</td>\n",
       "    </tr>\n",
       "    <tr>\n",
       "      <th>1</th>\n",
       "      <td>aa_000</td>\n",
       "      <td>0</td>\n",
       "    </tr>\n",
       "    <tr>\n",
       "      <th>2</th>\n",
       "      <td>ab_000</td>\n",
       "      <td>46329</td>\n",
       "    </tr>\n",
       "    <tr>\n",
       "      <th>3</th>\n",
       "      <td>ac_000</td>\n",
       "      <td>3335</td>\n",
       "    </tr>\n",
       "    <tr>\n",
       "      <th>4</th>\n",
       "      <td>ad_000</td>\n",
       "      <td>14861</td>\n",
       "    </tr>\n",
       "    <tr>\n",
       "      <th>...</th>\n",
       "      <td>...</td>\n",
       "      <td>...</td>\n",
       "    </tr>\n",
       "    <tr>\n",
       "      <th>166</th>\n",
       "      <td>ee_007</td>\n",
       "      <td>671</td>\n",
       "    </tr>\n",
       "    <tr>\n",
       "      <th>167</th>\n",
       "      <td>ee_008</td>\n",
       "      <td>671</td>\n",
       "    </tr>\n",
       "    <tr>\n",
       "      <th>168</th>\n",
       "      <td>ee_009</td>\n",
       "      <td>671</td>\n",
       "    </tr>\n",
       "    <tr>\n",
       "      <th>169</th>\n",
       "      <td>ef_000</td>\n",
       "      <td>2724</td>\n",
       "    </tr>\n",
       "    <tr>\n",
       "      <th>170</th>\n",
       "      <td>eg_000</td>\n",
       "      <td>2723</td>\n",
       "    </tr>\n",
       "  </tbody>\n",
       "</table>\n",
       "<p>171 rows × 2 columns</p>\n",
       "</div>"
      ],
      "text/plain": [
       "    columns  missing values count\n",
       "0     class                     0\n",
       "1    aa_000                     0\n",
       "2    ab_000                 46329\n",
       "3    ac_000                  3335\n",
       "4    ad_000                 14861\n",
       "..      ...                   ...\n",
       "166  ee_007                   671\n",
       "167  ee_008                   671\n",
       "168  ee_009                   671\n",
       "169  ef_000                  2724\n",
       "170  eg_000                  2723\n",
       "\n",
       "[171 rows x 2 columns]"
      ]
     },
     "execution_count": 12,
     "metadata": {},
     "output_type": "execute_result"
    }
   ],
   "source": [
    "dataframe_with_null"
   ]
  },
  {
   "cell_type": "code",
   "execution_count": 13,
   "metadata": {},
   "outputs": [],
   "source": [
    "df = df[df.columns[df.isnull().mean() < 0.6]] # drop if more than 60% of the values arr missing for a column"
   ]
  },
  {
   "cell_type": "code",
   "execution_count": null,
   "metadata": {},
   "outputs": [],
   "source": []
  },
  {
   "cell_type": "code",
   "execution_count": 14,
   "metadata": {},
   "outputs": [],
   "source": [
    "df = df.apply(pd.to_numeric)"
   ]
  },
  {
   "cell_type": "code",
   "execution_count": 15,
   "metadata": {},
   "outputs": [
    {
     "data": {
      "text/plain": [
       "class       int64\n",
       "aa_000      int64\n",
       "ac_000    float64\n",
       "ad_000    float64\n",
       "ae_000    float64\n",
       "           ...   \n",
       "ee_007    float64\n",
       "ee_008    float64\n",
       "ee_009    float64\n",
       "ef_000    float64\n",
       "eg_000    float64\n",
       "Length: 163, dtype: object"
      ]
     },
     "execution_count": 15,
     "metadata": {},
     "output_type": "execute_result"
    }
   ],
   "source": [
    "df.dtypes"
   ]
  },
  {
   "cell_type": "markdown",
   "metadata": {},
   "source": [
    "# Observation:\n",
    "\n",
    "This dataset is highly imbalanced as the number of negative class points are much much more than the positive class points. We can choose to upsample the minority class datapoints, or use a modified classifier to tackle this problem.\n",
    "\n",
    "# Checking for single value features\n",
    "\n",
    "Out of the available features, the ones that have the same value for all datapoints do not hold much importance in improving performance of our model. Hence, we can discard those features.\n",
    "\n",
    "We can remove the features that have standard deviation = 0\n"
   ]
  },
  {
   "cell_type": "code",
   "execution_count": 16,
   "metadata": {},
   "outputs": [],
   "source": [
    "def constant_value(df):\n",
    "    \"\"\"\n",
    "    This function discards columns\n",
    "    that have std. deviation of 0\n",
    "    meaning, all values are constant\n",
    "    \"\"\"\n",
    "    data_n  = df.describe(include = 'all')\n",
    "    col_to_drop = []\n",
    "    \n",
    "    for i in df.columns:\n",
    "        if data_n[i]['std']==0:\n",
    "            col_to_drop.append(i)\n",
    "    df.drop(col_to_drop,axis=1,inplace=True)\n",
    "    \n",
    "    return col_to_drop"
   ]
  },
  {
   "cell_type": "code",
   "execution_count": 17,
   "metadata": {},
   "outputs": [],
   "source": [
    "dropped_feature = constant_value(df)"
   ]
  },
  {
   "cell_type": "code",
   "execution_count": 18,
   "metadata": {},
   "outputs": [
    {
     "name": "stdout",
     "output_type": "stream",
     "text": [
      "The features that are dropped due to having a constant value (0 std. dev.) are:  ['cd_000']\n",
      "Shape of our feature set:  (60000, 162)\n"
     ]
    }
   ],
   "source": [
    "print(\"The features that are dropped due to having a constant value (0 std. dev.) are: \",dropped_feature)\n",
    "print(\"Shape of our feature set: \",df.shape)"
   ]
  },
  {
   "cell_type": "code",
   "execution_count": 19,
   "metadata": {},
   "outputs": [],
   "source": [
    "# relacing null values with mean\n",
    "for col in df.columns:\n",
    "    df[col] = df[col].replace(np.NaN,df[col].mean())"
   ]
  },
  {
   "cell_type": "code",
   "execution_count": 20,
   "metadata": {},
   "outputs": [
    {
     "data": {
      "text/plain": [
       "class     0\n",
       "aa_000    0\n",
       "ac_000    0\n",
       "ad_000    0\n",
       "ae_000    0\n",
       "         ..\n",
       "ee_007    0\n",
       "ee_008    0\n",
       "ee_009    0\n",
       "ef_000    0\n",
       "eg_000    0\n",
       "Length: 162, dtype: int64"
      ]
     },
     "execution_count": 20,
     "metadata": {},
     "output_type": "execute_result"
    }
   ],
   "source": [
    "df.isna().sum()"
   ]
  },
  {
   "cell_type": "code",
   "execution_count": 21,
   "metadata": {},
   "outputs": [],
   "source": [
    "from imblearn.over_sampling import SMOTE"
   ]
  },
  {
   "cell_type": "code",
   "execution_count": 22,
   "metadata": {},
   "outputs": [],
   "source": [
    "sample = SMOTE()"
   ]
  },
  {
   "cell_type": "code",
   "execution_count": 23,
   "metadata": {},
   "outputs": [],
   "source": [
    "X = df.drop(['class'],axis=1)\n",
    "y = df['class']"
   ]
  },
  {
   "cell_type": "code",
   "execution_count": 24,
   "metadata": {},
   "outputs": [],
   "source": [
    "X_bal,y_bal = sample.fit_resample(X,y)"
   ]
  },
  {
   "cell_type": "code",
   "execution_count": 25,
   "metadata": {},
   "outputs": [
    {
     "data": {
      "text/plain": [
       "aa_000      int64\n",
       "ac_000    float64\n",
       "ad_000    float64\n",
       "ae_000    float64\n",
       "af_000    float64\n",
       "           ...   \n",
       "ee_007    float64\n",
       "ee_008    float64\n",
       "ee_009    float64\n",
       "ef_000    float64\n",
       "eg_000    float64\n",
       "Length: 161, dtype: object"
      ]
     },
     "execution_count": 25,
     "metadata": {},
     "output_type": "execute_result"
    }
   ],
   "source": [
    "X.dtypes"
   ]
  },
  {
   "cell_type": "code",
   "execution_count": 26,
   "metadata": {},
   "outputs": [
    {
     "data": {
      "text/plain": [
       "Text(0, 0.5, 'Count')"
      ]
     },
     "execution_count": 26,
     "metadata": {},
     "output_type": "execute_result"
    },
    {
     "data": {
      "image/png": "[encoded data removed]",
      "text/plain": [
       "<Figure size 432x288 with 1 Axes>"
      ]
     },
     "metadata": {
      "needs_background": "light"
     },
     "output_type": "display_data"
    }
   ],
   "source": [
    "# Plotting the distribution of class label\n",
    "sns.countplot(y_bal)\n",
    "plt.title('Class Label Distribution')\n",
    "plt.xlabel('Class Label')\n",
    "plt.ylabel('Count')"
   ]
  },
  {
   "cell_type": "code",
   "execution_count": 27,
   "metadata": {},
   "outputs": [],
   "source": [
    "from sklearn.preprocessing import StandardScaler\n",
    "\n",
    "scaler = StandardScaler()\n"
   ]
  },
  {
   "cell_type": "code",
   "execution_count": 28,
   "metadata": {},
   "outputs": [],
   "source": [
    "X_scaled = scaler.fit_transform(X_bal)"
   ]
  },
  {
   "cell_type": "code",
   "execution_count": 29,
   "metadata": {},
   "outputs": [],
   "source": [
    "X_scaled = pd.DataFrame(X_scaled, columns=X.columns)"
   ]
  },
  {
   "cell_type": "code",
   "execution_count": 30,
   "metadata": {},
   "outputs": [
    {
     "data": {
      "text/html": [
       "<div>\n",
       "<style scoped>\n",
       "    .dataframe tbody tr th:only-of-type {\n",
       "        vertical-align: middle;\n",
       "    }\n",
       "\n",
       "    .dataframe tbody tr th {\n",
       "        vertical-align: top;\n",
       "    }\n",
       "\n",
       "    .dataframe thead th {\n",
       "        text-align: right;\n",
       "    }\n",
       "</style>\n",
       "<table border=\"1\" class=\"dataframe\">\n",
       "  <thead>\n",
       "    <tr style=\"text-align: right;\">\n",
       "      <th></th>\n",
       "      <th>aa_000</th>\n",
       "      <th>ac_000</th>\n",
       "      <th>ad_000</th>\n",
       "      <th>ae_000</th>\n",
       "      <th>af_000</th>\n",
       "      <th>ag_000</th>\n",
       "      <th>ag_001</th>\n",
       "      <th>ag_002</th>\n",
       "      <th>ag_003</th>\n",
       "      <th>ag_004</th>\n",
       "      <th>...</th>\n",
       "      <th>ee_002</th>\n",
       "      <th>ee_003</th>\n",
       "      <th>ee_004</th>\n",
       "      <th>ee_005</th>\n",
       "      <th>ee_006</th>\n",
       "      <th>ee_007</th>\n",
       "      <th>ee_008</th>\n",
       "      <th>ee_009</th>\n",
       "      <th>ef_000</th>\n",
       "      <th>eg_000</th>\n",
       "    </tr>\n",
       "  </thead>\n",
       "  <tbody>\n",
       "    <tr>\n",
       "      <th>0</th>\n",
       "      <td>-0.641378</td>\n",
       "      <td>3.120816</td>\n",
       "      <td>-0.006291</td>\n",
       "      <td>-0.069554</td>\n",
       "      <td>-0.077592</td>\n",
       "      <td>-0.052457</td>\n",
       "      <td>-0.164812</td>\n",
       "      <td>-0.308265</td>\n",
       "      <td>-0.422020</td>\n",
       "      <td>-0.510568</td>\n",
       "      <td>...</td>\n",
       "      <td>-0.313605</td>\n",
       "      <td>-0.339996</td>\n",
       "      <td>-0.427244</td>\n",
       "      <td>-0.477927</td>\n",
       "      <td>-0.484208</td>\n",
       "      <td>-0.424036</td>\n",
       "      <td>-0.322832</td>\n",
       "      <td>-0.225950</td>\n",
       "      <td>-0.041025</td>\n",
       "      <td>-0.052053</td>\n",
       "    </tr>\n",
       "    <tr>\n",
       "      <th>1</th>\n",
       "      <td>-0.744460</td>\n",
       "      <td>-0.466633</td>\n",
       "      <td>0.001326</td>\n",
       "      <td>-0.069554</td>\n",
       "      <td>-0.077592</td>\n",
       "      <td>-0.052457</td>\n",
       "      <td>-0.164812</td>\n",
       "      <td>-0.308265</td>\n",
       "      <td>-0.422020</td>\n",
       "      <td>-0.513295</td>\n",
       "      <td>...</td>\n",
       "      <td>-0.546673</td>\n",
       "      <td>-0.523306</td>\n",
       "      <td>-0.546288</td>\n",
       "      <td>-0.534158</td>\n",
       "      <td>-0.543878</td>\n",
       "      <td>-0.450755</td>\n",
       "      <td>-0.306696</td>\n",
       "      <td>-0.214889</td>\n",
       "      <td>-0.041025</td>\n",
       "      <td>-0.052053</td>\n",
       "    </tr>\n",
       "    <tr>\n",
       "      <th>2</th>\n",
       "      <td>-0.725606</td>\n",
       "      <td>-0.466633</td>\n",
       "      <td>-0.006298</td>\n",
       "      <td>-0.069554</td>\n",
       "      <td>-0.077592</td>\n",
       "      <td>-0.052457</td>\n",
       "      <td>-0.164812</td>\n",
       "      <td>-0.308265</td>\n",
       "      <td>-0.422020</td>\n",
       "      <td>-0.515679</td>\n",
       "      <td>...</td>\n",
       "      <td>-0.587653</td>\n",
       "      <td>-0.533917</td>\n",
       "      <td>-0.509917</td>\n",
       "      <td>-0.493021</td>\n",
       "      <td>-0.489554</td>\n",
       "      <td>-0.424013</td>\n",
       "      <td>-0.308318</td>\n",
       "      <td>-0.222160</td>\n",
       "      <td>-0.041025</td>\n",
       "      <td>-0.052053</td>\n",
       "    </tr>\n",
       "    <tr>\n",
       "      <th>3</th>\n",
       "      <td>-0.822518</td>\n",
       "      <td>-0.466633</td>\n",
       "      <td>-0.006299</td>\n",
       "      <td>-0.069554</td>\n",
       "      <td>-0.044566</td>\n",
       "      <td>-0.052457</td>\n",
       "      <td>-0.164812</td>\n",
       "      <td>-0.308265</td>\n",
       "      <td>-0.421915</td>\n",
       "      <td>-0.515598</td>\n",
       "      <td>...</td>\n",
       "      <td>-0.666508</td>\n",
       "      <td>-0.626796</td>\n",
       "      <td>-0.627902</td>\n",
       "      <td>-0.595650</td>\n",
       "      <td>-0.582683</td>\n",
       "      <td>-0.478979</td>\n",
       "      <td>-0.371353</td>\n",
       "      <td>-0.225950</td>\n",
       "      <td>0.651092</td>\n",
       "      <td>2.648653</td>\n",
       "    </tr>\n",
       "    <tr>\n",
       "      <th>4</th>\n",
       "      <td>-0.678756</td>\n",
       "      <td>-0.466631</td>\n",
       "      <td>-0.006284</td>\n",
       "      <td>-0.069554</td>\n",
       "      <td>-0.077592</td>\n",
       "      <td>-0.052457</td>\n",
       "      <td>-0.164812</td>\n",
       "      <td>-0.308265</td>\n",
       "      <td>-0.422020</td>\n",
       "      <td>-0.509634</td>\n",
       "      <td>...</td>\n",
       "      <td>-0.489592</td>\n",
       "      <td>-0.493236</td>\n",
       "      <td>-0.515119</td>\n",
       "      <td>-0.508653</td>\n",
       "      <td>-0.499366</td>\n",
       "      <td>-0.370607</td>\n",
       "      <td>-0.083799</td>\n",
       "      <td>-0.216969</td>\n",
       "      <td>-0.041025</td>\n",
       "      <td>-0.052053</td>\n",
       "    </tr>\n",
       "    <tr>\n",
       "      <th>...</th>\n",
       "      <td>...</td>\n",
       "      <td>...</td>\n",
       "      <td>...</td>\n",
       "      <td>...</td>\n",
       "      <td>...</td>\n",
       "      <td>...</td>\n",
       "      <td>...</td>\n",
       "      <td>...</td>\n",
       "      <td>...</td>\n",
       "      <td>...</td>\n",
       "      <td>...</td>\n",
       "      <td>...</td>\n",
       "      <td>...</td>\n",
       "      <td>...</td>\n",
       "      <td>...</td>\n",
       "      <td>...</td>\n",
       "      <td>...</td>\n",
       "      <td>...</td>\n",
       "      <td>...</td>\n",
       "      <td>...</td>\n",
       "      <td>...</td>\n",
       "    </tr>\n",
       "    <tr>\n",
       "      <th>117995</th>\n",
       "      <td>1.743219</td>\n",
       "      <td>-0.466631</td>\n",
       "      <td>0.001326</td>\n",
       "      <td>-0.069554</td>\n",
       "      <td>-0.077592</td>\n",
       "      <td>-0.052457</td>\n",
       "      <td>-0.160424</td>\n",
       "      <td>-0.018026</td>\n",
       "      <td>0.934058</td>\n",
       "      <td>1.946379</td>\n",
       "      <td>...</td>\n",
       "      <td>0.119213</td>\n",
       "      <td>0.147021</td>\n",
       "      <td>0.362632</td>\n",
       "      <td>1.289454</td>\n",
       "      <td>2.251154</td>\n",
       "      <td>2.209988</td>\n",
       "      <td>-0.253214</td>\n",
       "      <td>-0.225950</td>\n",
       "      <td>-0.041025</td>\n",
       "      <td>-0.052053</td>\n",
       "    </tr>\n",
       "    <tr>\n",
       "      <th>117996</th>\n",
       "      <td>-0.379567</td>\n",
       "      <td>-0.466631</td>\n",
       "      <td>-0.006271</td>\n",
       "      <td>-0.069554</td>\n",
       "      <td>-0.077592</td>\n",
       "      <td>-0.052457</td>\n",
       "      <td>0.011587</td>\n",
       "      <td>-0.047519</td>\n",
       "      <td>0.081856</td>\n",
       "      <td>0.246884</td>\n",
       "      <td>...</td>\n",
       "      <td>-0.316270</td>\n",
       "      <td>-0.355058</td>\n",
       "      <td>-0.345225</td>\n",
       "      <td>0.498319</td>\n",
       "      <td>-0.282778</td>\n",
       "      <td>-0.384939</td>\n",
       "      <td>-0.367511</td>\n",
       "      <td>-0.225950</td>\n",
       "      <td>-0.041025</td>\n",
       "      <td>-0.052053</td>\n",
       "    </tr>\n",
       "    <tr>\n",
       "      <th>117997</th>\n",
       "      <td>1.574262</td>\n",
       "      <td>-0.466633</td>\n",
       "      <td>0.001326</td>\n",
       "      <td>-0.069554</td>\n",
       "      <td>-0.077592</td>\n",
       "      <td>-0.052457</td>\n",
       "      <td>-0.164812</td>\n",
       "      <td>-0.308265</td>\n",
       "      <td>-0.416445</td>\n",
       "      <td>-0.342253</td>\n",
       "      <td>...</td>\n",
       "      <td>2.147232</td>\n",
       "      <td>2.024641</td>\n",
       "      <td>1.698188</td>\n",
       "      <td>0.893179</td>\n",
       "      <td>0.865027</td>\n",
       "      <td>0.705761</td>\n",
       "      <td>4.375590</td>\n",
       "      <td>3.309562</td>\n",
       "      <td>-0.041025</td>\n",
       "      <td>-0.052053</td>\n",
       "    </tr>\n",
       "    <tr>\n",
       "      <th>117998</th>\n",
       "      <td>1.769457</td>\n",
       "      <td>-0.466613</td>\n",
       "      <td>-0.001571</td>\n",
       "      <td>-0.069554</td>\n",
       "      <td>-0.077592</td>\n",
       "      <td>1.105309</td>\n",
       "      <td>3.456942</td>\n",
       "      <td>4.269966</td>\n",
       "      <td>2.516202</td>\n",
       "      <td>1.558708</td>\n",
       "      <td>...</td>\n",
       "      <td>1.921452</td>\n",
       "      <td>1.957891</td>\n",
       "      <td>1.928816</td>\n",
       "      <td>1.936564</td>\n",
       "      <td>1.662487</td>\n",
       "      <td>1.363704</td>\n",
       "      <td>1.814040</td>\n",
       "      <td>1.264626</td>\n",
       "      <td>-0.041025</td>\n",
       "      <td>-0.052053</td>\n",
       "    </tr>\n",
       "    <tr>\n",
       "      <th>117999</th>\n",
       "      <td>0.337937</td>\n",
       "      <td>-0.466631</td>\n",
       "      <td>-0.006276</td>\n",
       "      <td>-0.069554</td>\n",
       "      <td>-0.077592</td>\n",
       "      <td>-0.052457</td>\n",
       "      <td>-0.164812</td>\n",
       "      <td>-0.308265</td>\n",
       "      <td>-0.422020</td>\n",
       "      <td>-0.515916</td>\n",
       "      <td>...</td>\n",
       "      <td>-0.666576</td>\n",
       "      <td>-0.626823</td>\n",
       "      <td>-0.627918</td>\n",
       "      <td>-0.595661</td>\n",
       "      <td>-0.582686</td>\n",
       "      <td>-0.478979</td>\n",
       "      <td>-0.371353</td>\n",
       "      <td>-0.225950</td>\n",
       "      <td>-0.041025</td>\n",
       "      <td>-0.052053</td>\n",
       "    </tr>\n",
       "  </tbody>\n",
       "</table>\n",
       "<p>118000 rows × 161 columns</p>\n",
       "</div>"
      ],
      "text/plain": [
       "          aa_000    ac_000    ad_000    ae_000    af_000    ag_000    ag_001  \\\n",
       "0      -0.641378  3.120816 -0.006291 -0.069554 -0.077592 -0.052457 -0.164812   \n",
       "1      -0.744460 -0.466633  0.001326 -0.069554 -0.077592 -0.052457 -0.164812   \n",
       "2      -0.725606 -0.466633 -0.006298 -0.069554 -0.077592 -0.052457 -0.164812   \n",
       "3      -0.822518 -0.466633 -0.006299 -0.069554 -0.044566 -0.052457 -0.164812   \n",
       "4      -0.678756 -0.466631 -0.006284 -0.069554 -0.077592 -0.052457 -0.164812   \n",
       "...          ...       ...       ...       ...       ...       ...       ...   \n",
       "117995  1.743219 -0.466631  0.001326 -0.069554 -0.077592 -0.052457 -0.160424   \n",
       "117996 -0.379567 -0.466631 -0.006271 -0.069554 -0.077592 -0.052457  0.011587   \n",
       "117997  1.574262 -0.466633  0.001326 -0.069554 -0.077592 -0.052457 -0.164812   \n",
       "117998  1.769457 -0.466613 -0.001571 -0.069554 -0.077592  1.105309  3.456942   \n",
       "117999  0.337937 -0.466631 -0.006276 -0.069554 -0.077592 -0.052457 -0.164812   \n",
       "\n",
       "          ag_002    ag_003    ag_004  ...    ee_002    ee_003    ee_004  \\\n",
       "0      -0.308265 -0.422020 -0.510568  ... -0.313605 -0.339996 -0.427244   \n",
       "1      -0.308265 -0.422020 -0.513295  ... -0.546673 -0.523306 -0.546288   \n",
       "2      -0.308265 -0.422020 -0.515679  ... -0.587653 -0.533917 -0.509917   \n",
       "3      -0.308265 -0.421915 -0.515598  ... -0.666508 -0.626796 -0.627902   \n",
       "4      -0.308265 -0.422020 -0.509634  ... -0.489592 -0.493236 -0.515119   \n",
       "...          ...       ...       ...  ...       ...       ...       ...   \n",
       "117995 -0.018026  0.934058  1.946379  ...  0.119213  0.147021  0.362632   \n",
       "117996 -0.047519  0.081856  0.246884  ... -0.316270 -0.355058 -0.345225   \n",
       "117997 -0.308265 -0.416445 -0.342253  ...  2.147232  2.024641  1.698188   \n",
       "117998  4.269966  2.516202  1.558708  ...  1.921452  1.957891  1.928816   \n",
       "117999 -0.308265 -0.422020 -0.515916  ... -0.666576 -0.626823 -0.627918   \n",
       "\n",
       "          ee_005    ee_006    ee_007    ee_008    ee_009    ef_000    eg_000  \n",
       "0      -0.477927 -0.484208 -0.424036 -0.322832 -0.225950 -0.041025 -0.052053  \n",
       "1      -0.534158 -0.543878 -0.450755 -0.306696 -0.214889 -0.041025 -0.052053  \n",
       "2      -0.493021 -0.489554 -0.424013 -0.308318 -0.222160 -0.041025 -0.052053  \n",
       "3      -0.595650 -0.582683 -0.478979 -0.371353 -0.225950  0.651092  2.648653  \n",
       "4      -0.508653 -0.499366 -0.370607 -0.083799 -0.216969 -0.041025 -0.052053  \n",
       "...          ...       ...       ...       ...       ...       ...       ...  \n",
       "117995  1.289454  2.251154  2.209988 -0.253214 -0.225950 -0.041025 -0.052053  \n",
       "117996  0.498319 -0.282778 -0.384939 -0.367511 -0.225950 -0.041025 -0.052053  \n",
       "117997  0.893179  0.865027  0.705761  4.375590  3.309562 -0.041025 -0.052053  \n",
       "117998  1.936564  1.662487  1.363704  1.814040  1.264626 -0.041025 -0.052053  \n",
       "117999 -0.595661 -0.582686 -0.478979 -0.371353 -0.225950 -0.041025 -0.052053  \n",
       "\n",
       "[118000 rows x 161 columns]"
      ]
     },
     "execution_count": 30,
     "metadata": {},
     "output_type": "execute_result"
    }
   ],
   "source": [
    "X_scaled"
   ]
  },
  {
   "cell_type": "code",
   "execution_count": 32,
   "metadata": {},
   "outputs": [],
   "source": [
    "from sklearn.decomposition import PCA\n",
    "pca = PCA(n_components=161)"
   ]
  },
  {
   "cell_type": "code",
   "execution_count": 33,
   "metadata": {},
   "outputs": [
    {
     "data": {
      "text/plain": [
       "PCA(n_components=161)"
      ]
     },
     "execution_count": 33,
     "metadata": {},
     "output_type": "execute_result"
    }
   ],
   "source": [
    "pca.fit(X_scaled)"
   ]
  },
  {
   "cell_type": "code",
   "execution_count": 35,
   "metadata": {},
   "outputs": [],
   "source": [
    "var= pca.explained_variance_ratio_"
   ]
  },
  {
   "cell_type": "code",
   "execution_count": 36,
   "metadata": {},
   "outputs": [
    {
     "name": "stdout",
     "output_type": "stream",
     "text": [
      "[28.82 35.7  40.24 43.62 46.59 49.   51.2  53.14 55.   56.68 58.23 59.62\n",
      " 60.96 62.29 63.48 64.58 65.66 66.7  67.73 68.71 69.68 70.59 71.47 72.28\n",
      " 73.09 73.87 74.63 75.35 76.07 76.77 77.45 78.11 78.76 79.39 80.02 80.64\n",
      " 81.26 81.87 82.48 83.08 83.67 84.24 84.78 85.32 85.84 86.35 86.86 87.35\n",
      " 87.81 88.25 88.68 89.08 89.48 89.87 90.25 90.62 90.98 91.33 91.67 91.99\n",
      " 92.31 92.6  92.89 93.16 93.42 93.67 93.91 94.15 94.37 94.59 94.8  95.\n",
      " 95.2  95.4  95.58 95.76 95.93 96.09 96.25 96.4  96.55 96.7  96.85 96.99\n",
      " 97.12 97.25 97.37 97.49 97.61 97.73 97.84 97.95 98.06 98.16 98.26 98.36\n",
      " 98.45 98.54 98.63 98.71 98.79 98.86 98.93 99.   99.07 99.13 99.19 99.25\n",
      " 99.3  99.35 99.4  99.45 99.49 99.53 99.57 99.61 99.64 99.67 99.7  99.73\n",
      " 99.75 99.77 99.79 99.81 99.83 99.85 99.86 99.87 99.88 99.89 99.9  99.91\n",
      " 99.92 99.93 99.94 99.95 99.96 99.97 99.98 99.98 99.98 99.98 99.98 99.98\n",
      " 99.98 99.98 99.98 99.98 99.98 99.98 99.98 99.98 99.98 99.98 99.98 99.98\n",
      " 99.98 99.98 99.98 99.98 99.98]\n"
     ]
    }
   ],
   "source": [
    "var1=np.cumsum(np.round(pca.explained_variance_ratio_, decimals=4)*100)\n",
    "\n",
    "print(var1)"
   ]
  },
  {
   "cell_type": "code",
   "execution_count": 38,
   "metadata": {},
   "outputs": [
    {
     "data": {
      "image/png": "[encoded data removed]",
      "text/plain": [
       "<Figure size 432x288 with 1 Axes>"
      ]
     },
     "metadata": {
      "needs_background": "light"
     },
     "output_type": "display_data"
    }
   ],
   "source": [
    "principalComponents = pca.fit_transform(X_scaled)\n",
    "plt.figure()\n",
    "plt.plot(np.cumsum(pca.explained_variance_ratio_))\n",
    "plt.xlabel('Number of Components')\n",
    "plt.ylabel('Variance (%)') #for each component\n",
    "plt.title('Explained Variance')\n",
    "plt.show()"
   ]
  },
  {
   "cell_type": "code",
   "execution_count": 39,
   "metadata": {},
   "outputs": [
    {
     "data": {
      "text/html": [
       "<div>\n",
       "<style scoped>\n",
       "    .dataframe tbody tr th:only-of-type {\n",
       "        vertical-align: middle;\n",
       "    }\n",
       "\n",
       "    .dataframe tbody tr th {\n",
       "        vertical-align: top;\n",
       "    }\n",
       "\n",
       "    .dataframe thead th {\n",
       "        text-align: right;\n",
       "    }\n",
       "</style>\n",
       "<table border=\"1\" class=\"dataframe\">\n",
       "  <thead>\n",
       "    <tr style=\"text-align: right;\">\n",
       "      <th></th>\n",
       "      <th>0</th>\n",
       "      <th>1</th>\n",
       "      <th>2</th>\n",
       "      <th>3</th>\n",
       "      <th>4</th>\n",
       "      <th>5</th>\n",
       "      <th>6</th>\n",
       "      <th>7</th>\n",
       "      <th>8</th>\n",
       "      <th>9</th>\n",
       "      <th>...</th>\n",
       "      <th>94</th>\n",
       "      <th>95</th>\n",
       "      <th>96</th>\n",
       "      <th>97</th>\n",
       "      <th>98</th>\n",
       "      <th>99</th>\n",
       "      <th>100</th>\n",
       "      <th>101</th>\n",
       "      <th>102</th>\n",
       "      <th>103</th>\n",
       "    </tr>\n",
       "  </thead>\n",
       "  <tbody>\n",
       "    <tr>\n",
       "      <th>0</th>\n",
       "      <td>-3.865822</td>\n",
       "      <td>-0.664651</td>\n",
       "      <td>0.117029</td>\n",
       "      <td>0.392339</td>\n",
       "      <td>0.107083</td>\n",
       "      <td>0.276273</td>\n",
       "      <td>0.341017</td>\n",
       "      <td>0.560639</td>\n",
       "      <td>-0.014729</td>\n",
       "      <td>0.938550</td>\n",
       "      <td>...</td>\n",
       "      <td>-0.202954</td>\n",
       "      <td>0.259586</td>\n",
       "      <td>0.330890</td>\n",
       "      <td>0.103939</td>\n",
       "      <td>0.008004</td>\n",
       "      <td>-0.069177</td>\n",
       "      <td>-0.093165</td>\n",
       "      <td>0.234006</td>\n",
       "      <td>0.092363</td>\n",
       "      <td>0.066623</td>\n",
       "    </tr>\n",
       "    <tr>\n",
       "      <th>1</th>\n",
       "      <td>-4.940019</td>\n",
       "      <td>-0.478463</td>\n",
       "      <td>-0.275052</td>\n",
       "      <td>0.445905</td>\n",
       "      <td>-0.015815</td>\n",
       "      <td>-0.138307</td>\n",
       "      <td>0.043615</td>\n",
       "      <td>0.045746</td>\n",
       "      <td>0.000203</td>\n",
       "      <td>0.117789</td>\n",
       "      <td>...</td>\n",
       "      <td>-0.035504</td>\n",
       "      <td>-0.060800</td>\n",
       "      <td>-0.157557</td>\n",
       "      <td>-0.049178</td>\n",
       "      <td>0.093811</td>\n",
       "      <td>-0.077806</td>\n",
       "      <td>-0.107599</td>\n",
       "      <td>0.075511</td>\n",
       "      <td>-0.211436</td>\n",
       "      <td>0.055441</td>\n",
       "    </tr>\n",
       "    <tr>\n",
       "      <th>2</th>\n",
       "      <td>-5.248477</td>\n",
       "      <td>-0.426132</td>\n",
       "      <td>-0.476576</td>\n",
       "      <td>0.626053</td>\n",
       "      <td>0.070038</td>\n",
       "      <td>-0.173779</td>\n",
       "      <td>-0.391487</td>\n",
       "      <td>-0.176590</td>\n",
       "      <td>-0.016304</td>\n",
       "      <td>0.039861</td>\n",
       "      <td>...</td>\n",
       "      <td>-0.007512</td>\n",
       "      <td>-0.003917</td>\n",
       "      <td>-0.026045</td>\n",
       "      <td>0.023725</td>\n",
       "      <td>-0.005684</td>\n",
       "      <td>-0.026831</td>\n",
       "      <td>-0.022090</td>\n",
       "      <td>-0.001167</td>\n",
       "      <td>0.010436</td>\n",
       "      <td>-0.016369</td>\n",
       "    </tr>\n",
       "    <tr>\n",
       "      <th>3</th>\n",
       "      <td>-5.921419</td>\n",
       "      <td>-0.338637</td>\n",
       "      <td>-0.754216</td>\n",
       "      <td>0.381296</td>\n",
       "      <td>0.114972</td>\n",
       "      <td>-0.269484</td>\n",
       "      <td>-0.309334</td>\n",
       "      <td>-0.116082</td>\n",
       "      <td>-0.012912</td>\n",
       "      <td>-0.822483</td>\n",
       "      <td>...</td>\n",
       "      <td>0.029612</td>\n",
       "      <td>0.032623</td>\n",
       "      <td>-0.000581</td>\n",
       "      <td>-0.000229</td>\n",
       "      <td>-0.015581</td>\n",
       "      <td>-0.025496</td>\n",
       "      <td>-0.019209</td>\n",
       "      <td>-0.011485</td>\n",
       "      <td>-0.058324</td>\n",
       "      <td>-0.003158</td>\n",
       "    </tr>\n",
       "    <tr>\n",
       "      <th>4</th>\n",
       "      <td>-4.570092</td>\n",
       "      <td>-0.314010</td>\n",
       "      <td>0.019932</td>\n",
       "      <td>0.238062</td>\n",
       "      <td>0.052404</td>\n",
       "      <td>-0.059571</td>\n",
       "      <td>-0.054241</td>\n",
       "      <td>0.170134</td>\n",
       "      <td>-0.008269</td>\n",
       "      <td>0.445986</td>\n",
       "      <td>...</td>\n",
       "      <td>-0.025108</td>\n",
       "      <td>0.066683</td>\n",
       "      <td>-0.015824</td>\n",
       "      <td>0.058745</td>\n",
       "      <td>-0.046295</td>\n",
       "      <td>-0.028075</td>\n",
       "      <td>-0.061007</td>\n",
       "      <td>-0.129866</td>\n",
       "      <td>-0.066563</td>\n",
       "      <td>-0.113947</td>\n",
       "    </tr>\n",
       "    <tr>\n",
       "      <th>...</th>\n",
       "      <td>...</td>\n",
       "      <td>...</td>\n",
       "      <td>...</td>\n",
       "      <td>...</td>\n",
       "      <td>...</td>\n",
       "      <td>...</td>\n",
       "      <td>...</td>\n",
       "      <td>...</td>\n",
       "      <td>...</td>\n",
       "      <td>...</td>\n",
       "      <td>...</td>\n",
       "      <td>...</td>\n",
       "      <td>...</td>\n",
       "      <td>...</td>\n",
       "      <td>...</td>\n",
       "      <td>...</td>\n",
       "      <td>...</td>\n",
       "      <td>...</td>\n",
       "      <td>...</td>\n",
       "      <td>...</td>\n",
       "      <td>...</td>\n",
       "    </tr>\n",
       "    <tr>\n",
       "      <th>117995</th>\n",
       "      <td>7.833457</td>\n",
       "      <td>1.584169</td>\n",
       "      <td>2.459652</td>\n",
       "      <td>-0.044343</td>\n",
       "      <td>-2.205775</td>\n",
       "      <td>-4.853964</td>\n",
       "      <td>-1.056598</td>\n",
       "      <td>-1.599330</td>\n",
       "      <td>-0.008794</td>\n",
       "      <td>-0.720232</td>\n",
       "      <td>...</td>\n",
       "      <td>0.249511</td>\n",
       "      <td>-0.122409</td>\n",
       "      <td>-0.411531</td>\n",
       "      <td>0.945259</td>\n",
       "      <td>0.050867</td>\n",
       "      <td>-0.652341</td>\n",
       "      <td>-0.399880</td>\n",
       "      <td>-0.253457</td>\n",
       "      <td>0.406930</td>\n",
       "      <td>-0.017576</td>\n",
       "    </tr>\n",
       "    <tr>\n",
       "      <th>117996</th>\n",
       "      <td>-1.523556</td>\n",
       "      <td>2.505680</td>\n",
       "      <td>2.451766</td>\n",
       "      <td>0.898921</td>\n",
       "      <td>1.047433</td>\n",
       "      <td>1.071307</td>\n",
       "      <td>-0.112877</td>\n",
       "      <td>0.497284</td>\n",
       "      <td>-0.004513</td>\n",
       "      <td>-0.376340</td>\n",
       "      <td>...</td>\n",
       "      <td>0.385237</td>\n",
       "      <td>0.144726</td>\n",
       "      <td>-0.182297</td>\n",
       "      <td>0.442933</td>\n",
       "      <td>-0.329055</td>\n",
       "      <td>0.488089</td>\n",
       "      <td>0.086548</td>\n",
       "      <td>-0.101824</td>\n",
       "      <td>-0.151084</td>\n",
       "      <td>-0.509868</td>\n",
       "    </tr>\n",
       "    <tr>\n",
       "      <th>117997</th>\n",
       "      <td>11.931190</td>\n",
       "      <td>-7.826167</td>\n",
       "      <td>6.170211</td>\n",
       "      <td>3.618417</td>\n",
       "      <td>-6.379541</td>\n",
       "      <td>-1.176143</td>\n",
       "      <td>-0.282133</td>\n",
       "      <td>-2.528853</td>\n",
       "      <td>-0.018938</td>\n",
       "      <td>1.229500</td>\n",
       "      <td>...</td>\n",
       "      <td>-0.334433</td>\n",
       "      <td>0.046561</td>\n",
       "      <td>0.424077</td>\n",
       "      <td>-0.800921</td>\n",
       "      <td>-0.523018</td>\n",
       "      <td>0.893869</td>\n",
       "      <td>0.948814</td>\n",
       "      <td>0.207632</td>\n",
       "      <td>-0.701671</td>\n",
       "      <td>-0.100622</td>\n",
       "    </tr>\n",
       "    <tr>\n",
       "      <th>117998</th>\n",
       "      <td>16.974150</td>\n",
       "      <td>3.493899</td>\n",
       "      <td>5.016862</td>\n",
       "      <td>4.326142</td>\n",
       "      <td>-3.764036</td>\n",
       "      <td>-4.411842</td>\n",
       "      <td>1.388276</td>\n",
       "      <td>-1.932107</td>\n",
       "      <td>-0.054938</td>\n",
       "      <td>6.734702</td>\n",
       "      <td>...</td>\n",
       "      <td>0.310362</td>\n",
       "      <td>-0.314440</td>\n",
       "      <td>-0.755843</td>\n",
       "      <td>1.073847</td>\n",
       "      <td>0.627118</td>\n",
       "      <td>0.483783</td>\n",
       "      <td>-0.137416</td>\n",
       "      <td>-0.032321</td>\n",
       "      <td>0.254694</td>\n",
       "      <td>-0.295028</td>\n",
       "    </tr>\n",
       "    <tr>\n",
       "      <th>117999</th>\n",
       "      <td>0.258668</td>\n",
       "      <td>5.011243</td>\n",
       "      <td>6.757972</td>\n",
       "      <td>-4.264145</td>\n",
       "      <td>-1.611971</td>\n",
       "      <td>-0.136446</td>\n",
       "      <td>-0.198204</td>\n",
       "      <td>2.451159</td>\n",
       "      <td>0.009061</td>\n",
       "      <td>-0.261174</td>\n",
       "      <td>...</td>\n",
       "      <td>-0.785688</td>\n",
       "      <td>0.286357</td>\n",
       "      <td>0.514537</td>\n",
       "      <td>0.060113</td>\n",
       "      <td>0.118599</td>\n",
       "      <td>-0.954543</td>\n",
       "      <td>-0.649725</td>\n",
       "      <td>-0.017674</td>\n",
       "      <td>-0.314842</td>\n",
       "      <td>0.860091</td>\n",
       "    </tr>\n",
       "  </tbody>\n",
       "</table>\n",
       "<p>118000 rows × 104 columns</p>\n",
       "</div>"
      ],
      "text/plain": [
       "              0         1         2         3         4         5         6    \\\n",
       "0       -3.865822 -0.664651  0.117029  0.392339  0.107083  0.276273  0.341017   \n",
       "1       -4.940019 -0.478463 -0.275052  0.445905 -0.015815 -0.138307  0.043615   \n",
       "2       -5.248477 -0.426132 -0.476576  0.626053  0.070038 -0.173779 -0.391487   \n",
       "3       -5.921419 -0.338637 -0.754216  0.381296  0.114972 -0.269484 -0.309334   \n",
       "4       -4.570092 -0.314010  0.019932  0.238062  0.052404 -0.059571 -0.054241   \n",
       "...           ...       ...       ...       ...       ...       ...       ...   \n",
       "117995   7.833457  1.584169  2.459652 -0.044343 -2.205775 -4.853964 -1.056598   \n",
       "117996  -1.523556  2.505680  2.451766  0.898921  1.047433  1.071307 -0.112877   \n",
       "117997  11.931190 -7.826167  6.170211  3.618417 -6.379541 -1.176143 -0.282133   \n",
       "117998  16.974150  3.493899  5.016862  4.326142 -3.764036 -4.411842  1.388276   \n",
       "117999   0.258668  5.011243  6.757972 -4.264145 -1.611971 -0.136446 -0.198204   \n",
       "\n",
       "             7         8         9    ...       94        95        96   \\\n",
       "0       0.560639 -0.014729  0.938550  ... -0.202954  0.259586  0.330890   \n",
       "1       0.045746  0.000203  0.117789  ... -0.035504 -0.060800 -0.157557   \n",
       "2      -0.176590 -0.016304  0.039861  ... -0.007512 -0.003917 -0.026045   \n",
       "3      -0.116082 -0.012912 -0.822483  ...  0.029612  0.032623 -0.000581   \n",
       "4       0.170134 -0.008269  0.445986  ... -0.025108  0.066683 -0.015824   \n",
       "...          ...       ...       ...  ...       ...       ...       ...   \n",
       "117995 -1.599330 -0.008794 -0.720232  ...  0.249511 -0.122409 -0.411531   \n",
       "117996  0.497284 -0.004513 -0.376340  ...  0.385237  0.144726 -0.182297   \n",
       "117997 -2.528853 -0.018938  1.229500  ... -0.334433  0.046561  0.424077   \n",
       "117998 -1.932107 -0.054938  6.734702  ...  0.310362 -0.314440 -0.755843   \n",
       "117999  2.451159  0.009061 -0.261174  ... -0.785688  0.286357  0.514537   \n",
       "\n",
       "             97        98        99        100       101       102       103  \n",
       "0       0.103939  0.008004 -0.069177 -0.093165  0.234006  0.092363  0.066623  \n",
       "1      -0.049178  0.093811 -0.077806 -0.107599  0.075511 -0.211436  0.055441  \n",
       "2       0.023725 -0.005684 -0.026831 -0.022090 -0.001167  0.010436 -0.016369  \n",
       "3      -0.000229 -0.015581 -0.025496 -0.019209 -0.011485 -0.058324 -0.003158  \n",
       "4       0.058745 -0.046295 -0.028075 -0.061007 -0.129866 -0.066563 -0.113947  \n",
       "...          ...       ...       ...       ...       ...       ...       ...  \n",
       "117995  0.945259  0.050867 -0.652341 -0.399880 -0.253457  0.406930 -0.017576  \n",
       "117996  0.442933 -0.329055  0.488089  0.086548 -0.101824 -0.151084 -0.509868  \n",
       "117997 -0.800921 -0.523018  0.893869  0.948814  0.207632 -0.701671 -0.100622  \n",
       "117998  1.073847  0.627118  0.483783 -0.137416 -0.032321  0.254694 -0.295028  \n",
       "117999  0.060113  0.118599 -0.954543 -0.649725 -0.017674 -0.314842  0.860091  \n",
       "\n",
       "[118000 rows x 104 columns]"
      ]
     },
     "execution_count": 39,
     "metadata": {},
     "output_type": "execute_result"
    }
   ],
   "source": [
    "pca = PCA(n_components=104)\n",
    "new_data = pca.fit_transform(X_scaled)\n",
    "\n",
    "principal_x = pd.DataFrame(new_data,index=X_scaled.index)\n",
    "principal_x"
   ]
  },
  {
   "cell_type": "code",
   "execution_count": 40,
   "metadata": {},
   "outputs": [],
   "source": [
    "from sklearn.model_selection import train_test_split\n",
    "x_train,x_test,y_train,y_test = train_test_split(principal_x,y_bal,test_size = 1/3)"
   ]
  },
  {
   "cell_type": "code",
   "execution_count": 41,
   "metadata": {},
   "outputs": [],
   "source": [
    "from sklearn.model_selection import GridSearchCV\n",
    "from sklearn.neighbors import KNeighborsClassifier"
   ]
  },
  {
   "cell_type": "code",
   "execution_count": 42,
   "metadata": {},
   "outputs": [],
   "source": [
    "knn = KNeighborsClassifier()"
   ]
  },
  {
   "cell_type": "code",
   "execution_count": 43,
   "metadata": {},
   "outputs": [],
   "source": [
    "param_grid_knn = {\n",
    "                'algorithm': ['ball_tree', 'kd_tree'],\n",
    "                'leaf_size': [10, 17, 24, 28, 30, 35],\n",
    "                'n_neighbors': [4, 5, 8, 10, 11],\n",
    "                'p': [1, 2]\n",
    "            }"
   ]
  },
  {
   "cell_type": "code",
   "execution_count": 44,
   "metadata": {},
   "outputs": [],
   "source": [
    "grid = GridSearchCV(knn,param_grid_knn, verbose=3,cv=4)"
   ]
  },
  {
   "cell_type": "code",
   "execution_count": null,
   "metadata": {},
   "outputs": [],
   "source": [
    "grid.fit(x_train,y_train)"
   ]
  },
  {
   "cell_type": "code",
   "execution_count": null,
   "metadata": {},
   "outputs": [],
   "source": [
    "algorithm = grid.best_params_['algorithm']\n",
    "leaf_size = grid.best_params_['leaf_size']\n",
    "n_neighbors = grid.best_params_['n_neighbors']\n",
    "p = grid.best_params_['p']"
   ]
  },
  {
   "cell_type": "code",
   "execution_count": 45,
   "metadata": {},
   "outputs": [],
   "source": [
    "# after getting best parameters\n",
    "knn = KNeighborsClassifier(algorithm = 'ball_tree', leaf_size=10, n_neighbors=4, p=1)"
   ]
  },
  {
   "cell_type": "code",
   "execution_count": 46,
   "metadata": {},
   "outputs": [
    {
     "data": {
      "text/plain": [
       "KNeighborsClassifier(algorithm='ball_tree', leaf_size=10, n_neighbors=4, p=1)"
      ]
     },
     "execution_count": 46,
     "metadata": {},
     "output_type": "execute_result"
    }
   ],
   "source": [
    "knn.fit(x_train,y_train)"
   ]
  },
  {
   "cell_type": "code",
   "execution_count": 47,
   "metadata": {},
   "outputs": [],
   "source": [
    "y_pred = knn.predict(x_test)"
   ]
  },
  {
   "cell_type": "code",
   "execution_count": 48,
   "metadata": {},
   "outputs": [
    {
     "data": {
      "text/plain": [
       "0.9922204708394773"
      ]
     },
     "execution_count": 48,
     "metadata": {},
     "output_type": "execute_result"
    }
   ],
   "source": [
    "from sklearn.metrics  import roc_auc_score,accuracy_score\n",
    "accuracy_score(y_test, y_pred)"
   ]
  },
  {
   "cell_type": "code",
   "execution_count": 2,
   "metadata": {},
   "outputs": [],
   "source": [
    "import pickle"
   ]
  },
  {
   "cell_type": "code",
   "execution_count": 50,
   "metadata": {},
   "outputs": [],
   "source": [
    "filename = 'finalized_model.sav'\n",
    "pickle.dump(knn, open(filename, 'wb'))"
   ]
  },
  {
   "cell_type": "code",
   "execution_count": 3,
   "metadata": {},
   "outputs": [
    {
     "name": "stdout",
     "output_type": "stream",
     "text": [
      "(16000, 171)\n"
     ]
    },
    {
     "data": {
      "text/html": [
       "<div>\n",
       "<style scoped>\n",
       "    .dataframe tbody tr th:only-of-type {\n",
       "        vertical-align: middle;\n",
       "    }\n",
       "\n",
       "    .dataframe tbody tr th {\n",
       "        vertical-align: top;\n",
       "    }\n",
       "\n",
       "    .dataframe thead th {\n",
       "        text-align: right;\n",
       "    }\n",
       "</style>\n",
       "<table border=\"1\" class=\"dataframe\">\n",
       "  <thead>\n",
       "    <tr style=\"text-align: right;\">\n",
       "      <th></th>\n",
       "      <th>class</th>\n",
       "      <th>aa_000</th>\n",
       "      <th>ab_000</th>\n",
       "      <th>ac_000</th>\n",
       "      <th>ad_000</th>\n",
       "      <th>ae_000</th>\n",
       "      <th>af_000</th>\n",
       "      <th>ag_000</th>\n",
       "      <th>ag_001</th>\n",
       "      <th>ag_002</th>\n",
       "      <th>...</th>\n",
       "      <th>ee_002</th>\n",
       "      <th>ee_003</th>\n",
       "      <th>ee_004</th>\n",
       "      <th>ee_005</th>\n",
       "      <th>ee_006</th>\n",
       "      <th>ee_007</th>\n",
       "      <th>ee_008</th>\n",
       "      <th>ee_009</th>\n",
       "      <th>ef_000</th>\n",
       "      <th>eg_000</th>\n",
       "    </tr>\n",
       "  </thead>\n",
       "  <tbody>\n",
       "    <tr>\n",
       "      <th>0</th>\n",
       "      <td>neg</td>\n",
       "      <td>60</td>\n",
       "      <td>0</td>\n",
       "      <td>20</td>\n",
       "      <td>12</td>\n",
       "      <td>0</td>\n",
       "      <td>0</td>\n",
       "      <td>0</td>\n",
       "      <td>0</td>\n",
       "      <td>0</td>\n",
       "      <td>...</td>\n",
       "      <td>1098</td>\n",
       "      <td>138</td>\n",
       "      <td>412</td>\n",
       "      <td>654</td>\n",
       "      <td>78</td>\n",
       "      <td>88</td>\n",
       "      <td>0</td>\n",
       "      <td>0</td>\n",
       "      <td>0</td>\n",
       "      <td>0</td>\n",
       "    </tr>\n",
       "    <tr>\n",
       "      <th>1</th>\n",
       "      <td>neg</td>\n",
       "      <td>82</td>\n",
       "      <td>0</td>\n",
       "      <td>68</td>\n",
       "      <td>40</td>\n",
       "      <td>0</td>\n",
       "      <td>0</td>\n",
       "      <td>0</td>\n",
       "      <td>0</td>\n",
       "      <td>0</td>\n",
       "      <td>...</td>\n",
       "      <td>1068</td>\n",
       "      <td>276</td>\n",
       "      <td>1620</td>\n",
       "      <td>116</td>\n",
       "      <td>86</td>\n",
       "      <td>462</td>\n",
       "      <td>0</td>\n",
       "      <td>0</td>\n",
       "      <td>0</td>\n",
       "      <td>0</td>\n",
       "    </tr>\n",
       "    <tr>\n",
       "      <th>2</th>\n",
       "      <td>neg</td>\n",
       "      <td>66002</td>\n",
       "      <td>2</td>\n",
       "      <td>212</td>\n",
       "      <td>112</td>\n",
       "      <td>0</td>\n",
       "      <td>0</td>\n",
       "      <td>0</td>\n",
       "      <td>0</td>\n",
       "      <td>0</td>\n",
       "      <td>...</td>\n",
       "      <td>495076</td>\n",
       "      <td>380368</td>\n",
       "      <td>440134</td>\n",
       "      <td>269556</td>\n",
       "      <td>1315022</td>\n",
       "      <td>153680</td>\n",
       "      <td>516</td>\n",
       "      <td>0</td>\n",
       "      <td>0</td>\n",
       "      <td>0</td>\n",
       "    </tr>\n",
       "    <tr>\n",
       "      <th>3</th>\n",
       "      <td>neg</td>\n",
       "      <td>59816</td>\n",
       "      <td>na</td>\n",
       "      <td>1010</td>\n",
       "      <td>936</td>\n",
       "      <td>0</td>\n",
       "      <td>0</td>\n",
       "      <td>0</td>\n",
       "      <td>0</td>\n",
       "      <td>0</td>\n",
       "      <td>...</td>\n",
       "      <td>540820</td>\n",
       "      <td>243270</td>\n",
       "      <td>483302</td>\n",
       "      <td>485332</td>\n",
       "      <td>431376</td>\n",
       "      <td>210074</td>\n",
       "      <td>281662</td>\n",
       "      <td>3232</td>\n",
       "      <td>0</td>\n",
       "      <td>0</td>\n",
       "    </tr>\n",
       "    <tr>\n",
       "      <th>4</th>\n",
       "      <td>neg</td>\n",
       "      <td>1814</td>\n",
       "      <td>na</td>\n",
       "      <td>156</td>\n",
       "      <td>140</td>\n",
       "      <td>0</td>\n",
       "      <td>0</td>\n",
       "      <td>0</td>\n",
       "      <td>0</td>\n",
       "      <td>0</td>\n",
       "      <td>...</td>\n",
       "      <td>7646</td>\n",
       "      <td>4144</td>\n",
       "      <td>18466</td>\n",
       "      <td>49782</td>\n",
       "      <td>3176</td>\n",
       "      <td>482</td>\n",
       "      <td>76</td>\n",
       "      <td>0</td>\n",
       "      <td>0</td>\n",
       "      <td>0</td>\n",
       "    </tr>\n",
       "  </tbody>\n",
       "</table>\n",
       "<p>5 rows × 171 columns</p>\n",
       "</div>"
      ],
      "text/plain": [
       "  class  aa_000 ab_000 ac_000 ad_000 ae_000 af_000 ag_000 ag_001 ag_002  ...  \\\n",
       "0   neg      60      0     20     12      0      0      0      0      0  ...   \n",
       "1   neg      82      0     68     40      0      0      0      0      0  ...   \n",
       "2   neg   66002      2    212    112      0      0      0      0      0  ...   \n",
       "3   neg   59816     na   1010    936      0      0      0      0      0  ...   \n",
       "4   neg    1814     na    156    140      0      0      0      0      0  ...   \n",
       "\n",
       "   ee_002  ee_003  ee_004  ee_005   ee_006  ee_007  ee_008 ee_009 ef_000  \\\n",
       "0    1098     138     412     654       78      88       0      0      0   \n",
       "1    1068     276    1620     116       86     462       0      0      0   \n",
       "2  495076  380368  440134  269556  1315022  153680     516      0      0   \n",
       "3  540820  243270  483302  485332   431376  210074  281662   3232      0   \n",
       "4    7646    4144   18466   49782     3176     482      76      0      0   \n",
       "\n",
       "  eg_000  \n",
       "0      0  \n",
       "1      0  \n",
       "2      0  \n",
       "3      0  \n",
       "4      0  \n",
       "\n",
       "[5 rows x 171 columns]"
      ]
     },
     "execution_count": 3,
     "metadata": {},
     "output_type": "execute_result"
    }
   ],
   "source": [
    "# test data\n",
    "df1 = pd.read_csv('aps_failure_test_set(1).csv')\n",
    "print(df1.shape)\n",
    "df1.head()"
   ]
  },
  {
   "cell_type": "code",
   "execution_count": 7,
   "metadata": {},
   "outputs": [
    {
     "name": "stdout",
     "output_type": "stream",
     "text": [
      "[0 1]\n"
     ]
    }
   ],
   "source": [
    "df1['class'] = get_correct_label(df1['class'])\n",
    "print(df1['class'].unique())"
   ]
  },
  {
   "cell_type": "code",
   "execution_count": 8,
   "metadata": {},
   "outputs": [],
   "source": [
    "df1.replace('na',np.NaN, inplace=True)"
   ]
  },
  {
   "cell_type": "code",
   "execution_count": 9,
   "metadata": {},
   "outputs": [],
   "source": [
    "df1.drop(['cd_000'],axis=1,inplace=True)"
   ]
  },
  {
   "cell_type": "code",
   "execution_count": 10,
   "metadata": {},
   "outputs": [
    {
     "data": {
      "text/html": [
       "<div>\n",
       "<style scoped>\n",
       "    .dataframe tbody tr th:only-of-type {\n",
       "        vertical-align: middle;\n",
       "    }\n",
       "\n",
       "    .dataframe tbody tr th {\n",
       "        vertical-align: top;\n",
       "    }\n",
       "\n",
       "    .dataframe thead th {\n",
       "        text-align: right;\n",
       "    }\n",
       "</style>\n",
       "<table border=\"1\" class=\"dataframe\">\n",
       "  <thead>\n",
       "    <tr style=\"text-align: right;\">\n",
       "      <th></th>\n",
       "      <th>class</th>\n",
       "      <th>aa_000</th>\n",
       "      <th>ab_000</th>\n",
       "      <th>ac_000</th>\n",
       "      <th>ad_000</th>\n",
       "      <th>ae_000</th>\n",
       "      <th>af_000</th>\n",
       "      <th>ag_000</th>\n",
       "      <th>ag_001</th>\n",
       "      <th>ag_002</th>\n",
       "      <th>...</th>\n",
       "      <th>ee_002</th>\n",
       "      <th>ee_003</th>\n",
       "      <th>ee_004</th>\n",
       "      <th>ee_005</th>\n",
       "      <th>ee_006</th>\n",
       "      <th>ee_007</th>\n",
       "      <th>ee_008</th>\n",
       "      <th>ee_009</th>\n",
       "      <th>ef_000</th>\n",
       "      <th>eg_000</th>\n",
       "    </tr>\n",
       "  </thead>\n",
       "  <tbody>\n",
       "    <tr>\n",
       "      <th>0</th>\n",
       "      <td>0</td>\n",
       "      <td>60</td>\n",
       "      <td>0</td>\n",
       "      <td>20</td>\n",
       "      <td>12</td>\n",
       "      <td>0</td>\n",
       "      <td>0</td>\n",
       "      <td>0</td>\n",
       "      <td>0</td>\n",
       "      <td>0</td>\n",
       "      <td>...</td>\n",
       "      <td>1098</td>\n",
       "      <td>138</td>\n",
       "      <td>412</td>\n",
       "      <td>654</td>\n",
       "      <td>78</td>\n",
       "      <td>88</td>\n",
       "      <td>0</td>\n",
       "      <td>0</td>\n",
       "      <td>0</td>\n",
       "      <td>0</td>\n",
       "    </tr>\n",
       "    <tr>\n",
       "      <th>1</th>\n",
       "      <td>0</td>\n",
       "      <td>82</td>\n",
       "      <td>0</td>\n",
       "      <td>68</td>\n",
       "      <td>40</td>\n",
       "      <td>0</td>\n",
       "      <td>0</td>\n",
       "      <td>0</td>\n",
       "      <td>0</td>\n",
       "      <td>0</td>\n",
       "      <td>...</td>\n",
       "      <td>1068</td>\n",
       "      <td>276</td>\n",
       "      <td>1620</td>\n",
       "      <td>116</td>\n",
       "      <td>86</td>\n",
       "      <td>462</td>\n",
       "      <td>0</td>\n",
       "      <td>0</td>\n",
       "      <td>0</td>\n",
       "      <td>0</td>\n",
       "    </tr>\n",
       "    <tr>\n",
       "      <th>2</th>\n",
       "      <td>0</td>\n",
       "      <td>66002</td>\n",
       "      <td>2</td>\n",
       "      <td>212</td>\n",
       "      <td>112</td>\n",
       "      <td>0</td>\n",
       "      <td>0</td>\n",
       "      <td>0</td>\n",
       "      <td>0</td>\n",
       "      <td>0</td>\n",
       "      <td>...</td>\n",
       "      <td>495076</td>\n",
       "      <td>380368</td>\n",
       "      <td>440134</td>\n",
       "      <td>269556</td>\n",
       "      <td>1315022</td>\n",
       "      <td>153680</td>\n",
       "      <td>516</td>\n",
       "      <td>0</td>\n",
       "      <td>0</td>\n",
       "      <td>0</td>\n",
       "    </tr>\n",
       "    <tr>\n",
       "      <th>3</th>\n",
       "      <td>0</td>\n",
       "      <td>59816</td>\n",
       "      <td>NaN</td>\n",
       "      <td>1010</td>\n",
       "      <td>936</td>\n",
       "      <td>0</td>\n",
       "      <td>0</td>\n",
       "      <td>0</td>\n",
       "      <td>0</td>\n",
       "      <td>0</td>\n",
       "      <td>...</td>\n",
       "      <td>540820</td>\n",
       "      <td>243270</td>\n",
       "      <td>483302</td>\n",
       "      <td>485332</td>\n",
       "      <td>431376</td>\n",
       "      <td>210074</td>\n",
       "      <td>281662</td>\n",
       "      <td>3232</td>\n",
       "      <td>0</td>\n",
       "      <td>0</td>\n",
       "    </tr>\n",
       "    <tr>\n",
       "      <th>4</th>\n",
       "      <td>0</td>\n",
       "      <td>1814</td>\n",
       "      <td>NaN</td>\n",
       "      <td>156</td>\n",
       "      <td>140</td>\n",
       "      <td>0</td>\n",
       "      <td>0</td>\n",
       "      <td>0</td>\n",
       "      <td>0</td>\n",
       "      <td>0</td>\n",
       "      <td>...</td>\n",
       "      <td>7646</td>\n",
       "      <td>4144</td>\n",
       "      <td>18466</td>\n",
       "      <td>49782</td>\n",
       "      <td>3176</td>\n",
       "      <td>482</td>\n",
       "      <td>76</td>\n",
       "      <td>0</td>\n",
       "      <td>0</td>\n",
       "      <td>0</td>\n",
       "    </tr>\n",
       "  </tbody>\n",
       "</table>\n",
       "<p>5 rows × 170 columns</p>\n",
       "</div>"
      ],
      "text/plain": [
       "   class  aa_000 ab_000 ac_000 ad_000 ae_000 af_000 ag_000 ag_001 ag_002  ...  \\\n",
       "0      0      60      0     20     12      0      0      0      0      0  ...   \n",
       "1      0      82      0     68     40      0      0      0      0      0  ...   \n",
       "2      0   66002      2    212    112      0      0      0      0      0  ...   \n",
       "3      0   59816    NaN   1010    936      0      0      0      0      0  ...   \n",
       "4      0    1814    NaN    156    140      0      0      0      0      0  ...   \n",
       "\n",
       "   ee_002  ee_003  ee_004  ee_005   ee_006  ee_007  ee_008 ee_009 ef_000  \\\n",
       "0    1098     138     412     654       78      88       0      0      0   \n",
       "1    1068     276    1620     116       86     462       0      0      0   \n",
       "2  495076  380368  440134  269556  1315022  153680     516      0      0   \n",
       "3  540820  243270  483302  485332   431376  210074  281662   3232      0   \n",
       "4    7646    4144   18466   49782     3176     482      76      0      0   \n",
       "\n",
       "  eg_000  \n",
       "0      0  \n",
       "1      0  \n",
       "2      0  \n",
       "3      0  \n",
       "4      0  \n",
       "\n",
       "[5 rows x 170 columns]"
      ]
     },
     "execution_count": 10,
     "metadata": {},
     "output_type": "execute_result"
    }
   ],
   "source": [
    "df1.head()"
   ]
  },
  {
   "cell_type": "code",
   "execution_count": 11,
   "metadata": {},
   "outputs": [],
   "source": [
    "df1 = df1.apply(pd.to_numeric)"
   ]
  },
  {
   "cell_type": "code",
   "execution_count": 12,
   "metadata": {},
   "outputs": [],
   "source": [
    "# relacing null values with mean\n",
    "for col in df1.columns:\n",
    "    df1[col] = df1[col].replace(np.NaN,df1[col].mean())"
   ]
  },
  {
   "cell_type": "code",
   "execution_count": 13,
   "metadata": {},
   "outputs": [],
   "source": [
    "X = df1.drop(['class'],axis=1)\n",
    "Y = df1['class']"
   ]
  },
  {
   "cell_type": "code",
   "execution_count": 61,
   "metadata": {},
   "outputs": [
    {
     "data": {
      "text/plain": [
       "(118000, 104)"
      ]
     },
     "execution_count": 61,
     "metadata": {},
     "output_type": "execute_result"
    }
   ],
   "source": [
    "principal_x.shape"
   ]
  },
  {
   "cell_type": "code",
   "execution_count": 63,
   "metadata": {},
   "outputs": [],
   "source": [
    "unusedcol = []\n",
    "for i in df1.columns :\n",
    "    if i not in df.columns:\n",
    "        unusedcol.append(i)"
   ]
  },
  {
   "cell_type": "code",
   "execution_count": 64,
   "metadata": {},
   "outputs": [
    {
     "data": {
      "text/plain": [
       "['ab_000',\n",
       " 'bm_000',\n",
       " 'bn_000',\n",
       " 'bo_000',\n",
       " 'bp_000',\n",
       " 'bq_000',\n",
       " 'br_000',\n",
       " 'cr_000']"
      ]
     },
     "execution_count": 64,
     "metadata": {},
     "output_type": "execute_result"
    }
   ],
   "source": [
    "unusedcol"
   ]
  },
  {
   "cell_type": "code",
   "execution_count": 65,
   "metadata": {},
   "outputs": [],
   "source": [
    "X.drop(['ab_000','bm_000','bn_000','bo_000','bp_000','bq_000','br_000','cr_000'],axis=1,inplace=True)"
   ]
  },
  {
   "cell_type": "code",
   "execution_count": 66,
   "metadata": {},
   "outputs": [],
   "source": [
    "X = pca.transform(X)"
   ]
  },
  {
   "cell_type": "code",
   "execution_count": 67,
   "metadata": {},
   "outputs": [
    {
     "data": {
      "text/plain": [
       "(16000, 104)"
      ]
     },
     "execution_count": 67,
     "metadata": {},
     "output_type": "execute_result"
    }
   ],
   "source": [
    "X.shape"
   ]
  },
  {
   "cell_type": "code",
   "execution_count": 68,
   "metadata": {},
   "outputs": [
    {
     "name": "stdout",
     "output_type": "stream",
     "text": [
      "0.9744375\n"
     ]
    }
   ],
   "source": [
    "loaded_model = pickle.load(open(filename, 'rb'))\n",
    "result = loaded_model.score(X,Y)\n",
    "print(result)"
   ]
  },
  {
   "cell_type": "code",
   "execution_count": null,
   "metadata": {},
   "outputs": [],
   "source": []
  }
 ],
 "metadata": {
  "kernelspec": {
   "display_name": "Python 3",
   "language": "python",
   "name": "python3"
  },
  "language_info": {
   "codemirror_mode": {
    "name": "ipython",
    "version": 3
   },
   "file_extension": ".py",
   "mimetype": "text/x-python",
   "name": "python",
   "nbconvert_exporter": "python",
   "pygments_lexer": "ipython3",
   "version": "3.8.3"
  }
 },
 "nbformat": 4,
 "nbformat_minor": 4
}
